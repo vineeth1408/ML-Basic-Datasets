{
  "nbformat": 4,
  "nbformat_minor": 0,
  "metadata": {
    "colab": {
      "name": "task.ipynb",
      "provenance": [],
      "collapsed_sections": [],
      "authorship_tag": "ABX9TyPl9NpomKbvBl22j+2Z22R4",
      "include_colab_link": true
    },
    "kernelspec": {
      "name": "python3",
      "display_name": "Python 3"
    },
    "language_info": {
      "name": "python"
    }
  },
  "cells": [
    {
      "cell_type": "markdown",
      "metadata": {
        "id": "view-in-github",
        "colab_type": "text"
      },
      "source": [
        "<a href=\"https://colab.research.google.com/github/vineeth1408/ML-Basic-Datasets/blob/main/task.ipynb\" target=\"_parent\"><img src=\"https://colab.research.google.com/assets/colab-badge.svg\" alt=\"Open In Colab\"/></a>"
      ]
    },
    {
      "cell_type": "code",
      "metadata": {
        "colab": {
          "resources": {
            "http://localhost:8080/nbextensions/google.colab/files.js": {
              "data": "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",
              "ok": true,
              "headers": [
                [
                  "content-type",
                  "application/javascript"
                ]
              ],
              "status": 200,
              "status_text": ""
            }
          },
          "base_uri": "https://localhost:8080/",
          "height": 38
        },
        "id": "K6PS5arKaJkK",
        "outputId": "ab9d7cc4-20a8-4cf7-adb9-c5e385030140"
      },
      "source": [
        "from google.colab import files\n",
        "uploaded = files.upload()"
      ],
      "execution_count": null,
      "outputs": [
        {
          "output_type": "display_data",
          "data": {
            "text/html": [
              "\n",
              "     <input type=\"file\" id=\"files-4a163195-b786-4d88-b0ae-7b838f0e2a4d\" name=\"files[]\" multiple disabled\n",
              "        style=\"border:none\" />\n",
              "     <output id=\"result-4a163195-b786-4d88-b0ae-7b838f0e2a4d\">\n",
              "      Upload widget is only available when the cell has been executed in the\n",
              "      current browser session. Please rerun this cell to enable.\n",
              "      </output>\n",
              "      <script src=\"/nbextensions/google.colab/files.js\"></script> "
            ],
            "text/plain": [
              "<IPython.core.display.HTML object>"
            ]
          },
          "metadata": {
            "tags": []
          }
        }
      ]
    },
    {
      "cell_type": "code",
      "metadata": {
        "id": "_HDswMPNaqp5"
      },
      "source": [
        "import pandas as pd\n",
        "df=pd.read_csv('task.csv')"
      ],
      "execution_count": null,
      "outputs": []
    },
    {
      "cell_type": "code",
      "metadata": {
        "colab": {
          "base_uri": "https://localhost:8080/",
          "height": 419
        },
        "id": "09riqvVabWNN",
        "outputId": "c80fd406-92d1-478e-d5a3-0e294bd805bb"
      },
      "source": [
        "df"
      ],
      "execution_count": null,
      "outputs": [
        {
          "output_type": "execute_result",
          "data": {
            "text/html": [
              "<div>\n",
              "<style scoped>\n",
              "    .dataframe tbody tr th:only-of-type {\n",
              "        vertical-align: middle;\n",
              "    }\n",
              "\n",
              "    .dataframe tbody tr th {\n",
              "        vertical-align: top;\n",
              "    }\n",
              "\n",
              "    .dataframe thead th {\n",
              "        text-align: right;\n",
              "    }\n",
              "</style>\n",
              "<table border=\"1\" class=\"dataframe\">\n",
              "  <thead>\n",
              "    <tr style=\"text-align: right;\">\n",
              "      <th></th>\n",
              "      <th>Issue ID</th>\n",
              "      <th>Title</th>\n",
              "      <th>Description</th>\n",
              "      <th>Issue Status</th>\n",
              "      <th>Resolution</th>\n",
              "    </tr>\n",
              "  </thead>\n",
              "  <tbody>\n",
              "    <tr>\n",
              "      <th>0</th>\n",
              "      <td>2142</td>\n",
              "      <td>ER-Classification quality improvement</td>\n",
              "      <td>Hi,\\nfind attached one example of possible cle...</td>\n",
              "      <td>Active</td>\n",
              "      <td>​Moved to DATA Streaming</td>\n",
              "    </tr>\n",
              "    <tr>\n",
              "      <th>1</th>\n",
              "      <td>2182</td>\n",
              "      <td>ER-STEP Type Dataset</td>\n",
              "      <td>Hi\\nIs it possible to add a „new“ dataset type...</td>\n",
              "      <td>Active</td>\n",
              "      <td>NaN</td>\n",
              "    </tr>\n",
              "    <tr>\n",
              "      <th>2</th>\n",
              "      <td>2229</td>\n",
              "      <td>ER-BOM REPORT ISSUES</td>\n",
              "      <td>Hi Omar,\\nI just discussed this with hiresh. B...</td>\n",
              "      <td>Active</td>\n",
              "      <td>NaN</td>\n",
              "    </tr>\n",
              "    <tr>\n",
              "      <th>3</th>\n",
              "      <td>2497</td>\n",
              "      <td>ER-VS: Vekt fra TC til SAP</td>\n",
              "      <td>Hi,\\nFind attached list of wheigths. How can w...</td>\n",
              "      <td>Active</td>\n",
              "      <td>NaN</td>\n",
              "    </tr>\n",
              "    <tr>\n",
              "      <th>4</th>\n",
              "      <td>2508</td>\n",
              "      <td>ER-VS: Vekt fra TC til SAP</td>\n",
              "      <td>Data Stream</td>\n",
              "      <td>Active</td>\n",
              "      <td>NaN</td>\n",
              "    </tr>\n",
              "    <tr>\n",
              "      <th>...</th>\n",
              "      <td>...</td>\n",
              "      <td>...</td>\n",
              "      <td>...</td>\n",
              "      <td>...</td>\n",
              "      <td>...</td>\n",
              "    </tr>\n",
              "    <tr>\n",
              "      <th>2893</th>\n",
              "      <td>1326</td>\n",
              "      <td>DC0201996 error</td>\n",
              "      <td>Error during approval. Please check and comple...</td>\n",
              "      <td>Resolved</td>\n",
              "      <td>​1</td>\n",
              "    </tr>\n",
              "    <tr>\n",
              "      <th>2894</th>\n",
              "      <td>1334</td>\n",
              "      <td>DC0202059 error</td>\n",
              "      <td>One more similar error. Please check and compl...</td>\n",
              "      <td>Resolved</td>\n",
              "      <td>​1</td>\n",
              "    </tr>\n",
              "    <tr>\n",
              "      <th>2895</th>\n",
              "      <td>1344</td>\n",
              "      <td>Type of error when saving BOM in tc</td>\n",
              "      <td>When saving BOM in TC, I get this message:\\nDo...</td>\n",
              "      <td>Resolved</td>\n",
              "      <td>​1</td>\n",
              "    </tr>\n",
              "    <tr>\n",
              "      <th>2896</th>\n",
              "      <td>1346</td>\n",
              "      <td>URGENT!! CAD files of standard parts</td>\n",
              "      <td>Can you please create CAD parts off the follow...</td>\n",
              "      <td>Resolved</td>\n",
              "      <td>1</td>\n",
              "    </tr>\n",
              "    <tr>\n",
              "      <th>2897</th>\n",
              "      <td>1795</td>\n",
              "      <td>Search on Legacy Items gives noe results</td>\n",
              "      <td>When searching for legacy item revisions I do ...</td>\n",
              "      <td>Resolved</td>\n",
              "      <td>NaN</td>\n",
              "    </tr>\n",
              "  </tbody>\n",
              "</table>\n",
              "<p>2898 rows × 5 columns</p>\n",
              "</div>"
            ],
            "text/plain": [
              "      Issue ID  ...                Resolution\n",
              "0         2142  ...  ​Moved to DATA Streaming\n",
              "1         2182  ...                       NaN\n",
              "2         2229  ...                       NaN\n",
              "3         2497  ...                       NaN\n",
              "4         2508  ...                       NaN\n",
              "...        ...  ...                       ...\n",
              "2893      1326  ...                        ​1\n",
              "2894      1334  ...                        ​1\n",
              "2895      1344  ...                        ​1\n",
              "2896      1346  ...                         1\n",
              "2897      1795  ...                       NaN\n",
              "\n",
              "[2898 rows x 5 columns]"
            ]
          },
          "metadata": {
            "tags": []
          },
          "execution_count": 3
        }
      ]
    },
    {
      "cell_type": "markdown",
      "metadata": {
        "id": "hb8e-jxVdrYl"
      },
      "source": [
        "# Data preprocessing "
      ]
    },
    {
      "cell_type": "code",
      "metadata": {
        "colab": {
          "base_uri": "https://localhost:8080/"
        },
        "id": "0Iww-bEdbXj4",
        "outputId": "fd8810ad-4891-4260-8d7e-c5fc52eb515e"
      },
      "source": [
        "df['Title']"
      ],
      "execution_count": null,
      "outputs": [
        {
          "output_type": "execute_result",
          "data": {
            "text/plain": [
              "0          ER-Classification quality improvement\n",
              "1                           ER-STEP Type Dataset\n",
              "2                           ER-BOM REPORT ISSUES\n",
              "3                     ER-VS: Vekt fra TC til SAP\n",
              "4                     ER-VS: Vekt fra TC til SAP\n",
              "                          ...                   \n",
              "2893                             DC0201996 error\n",
              "2894                             DC0202059 error\n",
              "2895         Type of error when saving BOM in tc\n",
              "2896        URGENT!! CAD files of standard parts\n",
              "2897    Search on Legacy Items gives noe results\n",
              "Name: Title, Length: 2898, dtype: object"
            ]
          },
          "metadata": {
            "tags": []
          },
          "execution_count": 4
        }
      ]
    },
    {
      "cell_type": "markdown",
      "metadata": {
        "id": "b8tkS7e7coP0"
      },
      "source": [
        "**Counting Titles**"
      ]
    },
    {
      "cell_type": "code",
      "metadata": {
        "colab": {
          "base_uri": "https://localhost:8080/"
        },
        "id": "0FMec77QbaK-",
        "outputId": "4b8122fe-529a-4f21-d209-e646493dfa41"
      },
      "source": [
        "df['Title'].value_counts()"
      ],
      "execution_count": null,
      "outputs": [
        {
          "output_type": "execute_result",
          "data": {
            "text/plain": [
              "Release item                                                        27\n",
              "Release material                                                    20\n",
              "Rename to CXSS                                                      17\n",
              "High                                                                14\n",
              "Renaming                                                            14\n",
              "                                                                    ..\n",
              "urgent change                                                        1\n",
              "New std parts                                                        1\n",
              "ER-Replaced By Class Suffix workflow for Super Users                 1\n",
              "Can not releas DC0201524                                             1\n",
              "XSC1111006997 and CXSS00443856 changed by miguser. Not released?     1\n",
              "Name: Title, Length: 2565, dtype: int64"
            ]
          },
          "metadata": {
            "tags": []
          },
          "execution_count": 6
        }
      ]
    },
    {
      "cell_type": "markdown",
      "metadata": {
        "id": "iOQUGOPPc4h0"
      },
      "source": [
        "**Counting words**"
      ]
    },
    {
      "cell_type": "code",
      "metadata": {
        "id": "P7d9kfKzcZTn"
      },
      "source": [
        "df['word_counts']= df['Title'].apply(lambda x:len(str(x).split())) #split into words and count each word"
      ],
      "execution_count": null,
      "outputs": []
    },
    {
      "cell_type": "code",
      "metadata": {
        "colab": {
          "base_uri": "https://localhost:8080/",
          "height": 142
        },
        "id": "bbaYF43QdVYZ",
        "outputId": "b5f46dbd-a70f-431a-8f31-063059e2b025"
      },
      "source": [
        "df.head(3)"
      ],
      "execution_count": null,
      "outputs": [
        {
          "output_type": "execute_result",
          "data": {
            "text/html": [
              "<div>\n",
              "<style scoped>\n",
              "    .dataframe tbody tr th:only-of-type {\n",
              "        vertical-align: middle;\n",
              "    }\n",
              "\n",
              "    .dataframe tbody tr th {\n",
              "        vertical-align: top;\n",
              "    }\n",
              "\n",
              "    .dataframe thead th {\n",
              "        text-align: right;\n",
              "    }\n",
              "</style>\n",
              "<table border=\"1\" class=\"dataframe\">\n",
              "  <thead>\n",
              "    <tr style=\"text-align: right;\">\n",
              "      <th></th>\n",
              "      <th>Issue ID</th>\n",
              "      <th>Title</th>\n",
              "      <th>Description</th>\n",
              "      <th>Issue Status</th>\n",
              "      <th>Resolution</th>\n",
              "      <th>word_counts</th>\n",
              "    </tr>\n",
              "  </thead>\n",
              "  <tbody>\n",
              "    <tr>\n",
              "      <th>0</th>\n",
              "      <td>2142</td>\n",
              "      <td>ER-Classification quality improvement</td>\n",
              "      <td>Hi,\\nfind attached one example of possible cle...</td>\n",
              "      <td>Active</td>\n",
              "      <td>​Moved to DATA Streaming</td>\n",
              "      <td>3</td>\n",
              "    </tr>\n",
              "    <tr>\n",
              "      <th>1</th>\n",
              "      <td>2182</td>\n",
              "      <td>ER-STEP Type Dataset</td>\n",
              "      <td>Hi\\nIs it possible to add a „new“ dataset type...</td>\n",
              "      <td>Active</td>\n",
              "      <td>NaN</td>\n",
              "      <td>3</td>\n",
              "    </tr>\n",
              "    <tr>\n",
              "      <th>2</th>\n",
              "      <td>2229</td>\n",
              "      <td>ER-BOM REPORT ISSUES</td>\n",
              "      <td>Hi Omar,\\nI just discussed this with hiresh. B...</td>\n",
              "      <td>Active</td>\n",
              "      <td>NaN</td>\n",
              "      <td>3</td>\n",
              "    </tr>\n",
              "  </tbody>\n",
              "</table>\n",
              "</div>"
            ],
            "text/plain": [
              "   Issue ID  ... word_counts\n",
              "0      2142  ...           3\n",
              "1      2182  ...           3\n",
              "2      2229  ...           3\n",
              "\n",
              "[3 rows x 6 columns]"
            ]
          },
          "metadata": {
            "tags": []
          },
          "execution_count": 9
        }
      ]
    },
    {
      "cell_type": "code",
      "metadata": {
        "colab": {
          "base_uri": "https://localhost:8080/"
        },
        "id": "0QXatnj3dezr",
        "outputId": "0b885b88-6f88-4e8a-94f7-1d89367655f9"
      },
      "source": [
        "print(df['word_counts'].max())\n",
        "df['word_counts'].min()"
      ],
      "execution_count": null,
      "outputs": [
        {
          "output_type": "stream",
          "text": [
            "25\n"
          ],
          "name": "stdout"
        },
        {
          "output_type": "execute_result",
          "data": {
            "text/plain": [
              "1"
            ]
          },
          "metadata": {
            "tags": []
          },
          "execution_count": 10
        }
      ]
    },
    {
      "cell_type": "code",
      "metadata": {
        "id": "pKwz4javd-8l"
      },
      "source": [
        "def char_counts(x): # removing spaces\n",
        "    s=x.split()\n",
        "    x=''.join(s)\n",
        "    return len(x)"
      ],
      "execution_count": null,
      "outputs": []
    },
    {
      "cell_type": "code",
      "metadata": {
        "id": "0ga7FJFveFwy"
      },
      "source": [
        "df['char_counts']=df['Title'].apply(lambda x: char_counts(str(x)))"
      ],
      "execution_count": null,
      "outputs": []
    },
    {
      "cell_type": "code",
      "metadata": {
        "id": "FLGPQl1jeLL0"
      },
      "source": [
        "df['avg_word_len'] = df['char_counts']/df['word_counts']"
      ],
      "execution_count": null,
      "outputs": []
    },
    {
      "cell_type": "markdown",
      "metadata": {
        "id": "n5be1SfXeh8M"
      },
      "source": [
        " stop words"
      ]
    },
    {
      "cell_type": "code",
      "metadata": {
        "id": "Q2eltcXieYls"
      },
      "source": [
        "import spacy\n",
        "from spacy.lang.en.stop_words import STOP_WORDS as stopwords"
      ],
      "execution_count": null,
      "outputs": []
    },
    {
      "cell_type": "markdown",
      "metadata": {
        "id": "KSnUMkQ3e8sZ"
      },
      "source": [
        "stop words len"
      ]
    },
    {
      "cell_type": "code",
      "metadata": {
        "id": "M9ZHj3D7epUk"
      },
      "source": [
        "df['stop_words_len']=df['Title'].apply(lambda x: len([t for t in x.split() if t in stopwords]))"
      ],
      "execution_count": null,
      "outputs": []
    },
    {
      "cell_type": "markdown",
      "metadata": {
        "id": "YatXCzuhfJeN"
      },
      "source": [
        "Numeric digits present in titles"
      ]
    },
    {
      "cell_type": "code",
      "metadata": {
        "id": "NJVUt0Yve4jL"
      },
      "source": [
        "df['numeric_count']=df['Title'].apply(lambda x:len([t for t in x.split() if t.isdigit()]))"
      ],
      "execution_count": null,
      "outputs": []
    },
    {
      "cell_type": "code",
      "metadata": {
        "colab": {
          "base_uri": "https://localhost:8080/",
          "height": 244
        },
        "id": "jhfw9ooifScP",
        "outputId": "4deac99d-2c12-4934-b6d6-3762f0792154"
      },
      "source": [
        "df.sample(3)"
      ],
      "execution_count": null,
      "outputs": [
        {
          "output_type": "execute_result",
          "data": {
            "text/html": [
              "<div>\n",
              "<style scoped>\n",
              "    .dataframe tbody tr th:only-of-type {\n",
              "        vertical-align: middle;\n",
              "    }\n",
              "\n",
              "    .dataframe tbody tr th {\n",
              "        vertical-align: top;\n",
              "    }\n",
              "\n",
              "    .dataframe thead th {\n",
              "        text-align: right;\n",
              "    }\n",
              "</style>\n",
              "<table border=\"1\" class=\"dataframe\">\n",
              "  <thead>\n",
              "    <tr style=\"text-align: right;\">\n",
              "      <th></th>\n",
              "      <th>Issue ID</th>\n",
              "      <th>Title</th>\n",
              "      <th>Description</th>\n",
              "      <th>Issue Status</th>\n",
              "      <th>Resolution</th>\n",
              "      <th>word_counts</th>\n",
              "      <th>char_counts</th>\n",
              "      <th>avg_word_len</th>\n",
              "      <th>stop_words_len</th>\n",
              "      <th>numeric_count</th>\n",
              "    </tr>\n",
              "  </thead>\n",
              "  <tbody>\n",
              "    <tr>\n",
              "      <th>1860</th>\n",
              "      <td>1967</td>\n",
              "      <td>New items. Need 3D model and change of material.</td>\n",
              "      <td>Can you please make 3D model of the following ...</td>\n",
              "      <td>Closed</td>\n",
              "      <td>​We have created all 3D model through part fam...</td>\n",
              "      <td>9</td>\n",
              "      <td>40</td>\n",
              "      <td>4.444444</td>\n",
              "      <td>2</td>\n",
              "      <td>0</td>\n",
              "    </tr>\n",
              "    <tr>\n",
              "      <th>474</th>\n",
              "      <td>497</td>\n",
              "      <td>Error in release of material</td>\n",
              "      <td>I released D1111308714 yesterday, to plant 018...</td>\n",
              "      <td>Closed</td>\n",
              "      <td>​\\nI cannot see the release flag on the revisi...</td>\n",
              "      <td>5</td>\n",
              "      <td>24</td>\n",
              "      <td>4.800000</td>\n",
              "      <td>2</td>\n",
              "      <td>0</td>\n",
              "    </tr>\n",
              "    <tr>\n",
              "      <th>701</th>\n",
              "      <td>769</td>\n",
              "      <td>Create CXSS</td>\n",
              "      <td>Can you please create an CXSS out of the follo...</td>\n",
              "      <td>Closed</td>\n",
              "      <td>​We have created the CXSSs and released them w...</td>\n",
              "      <td>2</td>\n",
              "      <td>10</td>\n",
              "      <td>5.000000</td>\n",
              "      <td>0</td>\n",
              "      <td>0</td>\n",
              "    </tr>\n",
              "  </tbody>\n",
              "</table>\n",
              "</div>"
            ],
            "text/plain": [
              "      Issue ID  ... numeric_count\n",
              "1860      1967  ...             0\n",
              "474        497  ...             0\n",
              "701        769  ...             0\n",
              "\n",
              "[3 rows x 10 columns]"
            ]
          },
          "metadata": {
            "tags": []
          },
          "execution_count": 18
        }
      ]
    },
    {
      "cell_type": "markdown",
      "metadata": {
        "id": "O9PQJ1AOgV6l"
      },
      "source": [
        "dropping unnecessary columns"
      ]
    },
    {
      "cell_type": "code",
      "metadata": {
        "id": "ztr7GR1wfWJ2"
      },
      "source": [
        "df=df.drop(columns=['Description','Issue Status','Resolution'],axis=1)"
      ],
      "execution_count": null,
      "outputs": []
    },
    {
      "cell_type": "markdown",
      "metadata": {
        "id": "KQqsMQphgjCN"
      },
      "source": [
        "#upper case count"
      ]
    },
    {
      "cell_type": "code",
      "metadata": {
        "id": "nmKfKH_pfiGh"
      },
      "source": [
        "df['upper_words_count']=df['Title'].apply(lambda x:len([t for t in x.split() if t.isupper()]) )"
      ],
      "execution_count": null,
      "outputs": []
    },
    {
      "cell_type": "markdown",
      "metadata": {
        "id": "gs8vwoLSgzTa"
      },
      "source": [
        "Convert to small letters"
      ]
    },
    {
      "cell_type": "code",
      "metadata": {
        "id": "W4MptvJQgn3J"
      },
      "source": [
        "df['Title'] = df['Title'].apply(lambda x:str(x).lower())"
      ],
      "execution_count": null,
      "outputs": []
    },
    {
      "cell_type": "code",
      "metadata": {
        "colab": {
          "base_uri": "https://localhost:8080/",
          "height": 111
        },
        "id": "iO6JVOGngyHv",
        "outputId": "a6d68ea0-8499-4e06-9983-a3e3a6888901"
      },
      "source": [
        "df.sample(2)"
      ],
      "execution_count": null,
      "outputs": [
        {
          "output_type": "execute_result",
          "data": {
            "text/html": [
              "<div>\n",
              "<style scoped>\n",
              "    .dataframe tbody tr th:only-of-type {\n",
              "        vertical-align: middle;\n",
              "    }\n",
              "\n",
              "    .dataframe tbody tr th {\n",
              "        vertical-align: top;\n",
              "    }\n",
              "\n",
              "    .dataframe thead th {\n",
              "        text-align: right;\n",
              "    }\n",
              "</style>\n",
              "<table border=\"1\" class=\"dataframe\">\n",
              "  <thead>\n",
              "    <tr style=\"text-align: right;\">\n",
              "      <th></th>\n",
              "      <th>Issue ID</th>\n",
              "      <th>Title</th>\n",
              "      <th>word_counts</th>\n",
              "      <th>char_counts</th>\n",
              "      <th>avg_word_len</th>\n",
              "      <th>stop_words_len</th>\n",
              "      <th>numeric_count</th>\n",
              "      <th>upper_words_count</th>\n",
              "    </tr>\n",
              "  </thead>\n",
              "  <tbody>\n",
              "    <tr>\n",
              "      <th>660</th>\n",
              "      <td>725</td>\n",
              "      <td>dc0200994</td>\n",
              "      <td>1</td>\n",
              "      <td>9</td>\n",
              "      <td>9.000000</td>\n",
              "      <td>0</td>\n",
              "      <td>0</td>\n",
              "      <td>0</td>\n",
              "    </tr>\n",
              "    <tr>\n",
              "      <th>1641</th>\n",
              "      <td>1747</td>\n",
              "      <td>fw: dn700 gasket</td>\n",
              "      <td>3</td>\n",
              "      <td>14</td>\n",
              "      <td>4.666667</td>\n",
              "      <td>0</td>\n",
              "      <td>0</td>\n",
              "      <td>0</td>\n",
              "    </tr>\n",
              "  </tbody>\n",
              "</table>\n",
              "</div>"
            ],
            "text/plain": [
              "      Issue ID             Title  ...  numeric_count  upper_words_count\n",
              "660        725         dc0200994  ...              0                  0\n",
              "1641      1747  fw: dn700 gasket  ...              0                  0\n",
              "\n",
              "[2 rows x 8 columns]"
            ]
          },
          "metadata": {
            "tags": []
          },
          "execution_count": 30
        }
      ]
    },
    {
      "cell_type": "markdown",
      "metadata": {
        "id": "U-KkcBsPhgK-"
      },
      "source": [
        "Removing punctuations and "
      ]
    },
    {
      "cell_type": "code",
      "metadata": {
        "id": "mvnavr58hKSo"
      },
      "source": [
        "import re\n",
        "df['Title']=df['Title'].apply(lambda x: re.sub(r'[^\\w]+', \" \", x).strip()) # replacing with ' '"
      ],
      "execution_count": null,
      "outputs": []
    },
    {
      "cell_type": "code",
      "metadata": {
        "colab": {
          "base_uri": "https://localhost:8080/",
          "height": 204
        },
        "id": "PXTcdT7WhvV9",
        "outputId": "73597887-202d-4e8e-b1a6-e321ca288f86"
      },
      "source": [
        "df.sample(5)"
      ],
      "execution_count": null,
      "outputs": [
        {
          "output_type": "execute_result",
          "data": {
            "text/html": [
              "<div>\n",
              "<style scoped>\n",
              "    .dataframe tbody tr th:only-of-type {\n",
              "        vertical-align: middle;\n",
              "    }\n",
              "\n",
              "    .dataframe tbody tr th {\n",
              "        vertical-align: top;\n",
              "    }\n",
              "\n",
              "    .dataframe thead th {\n",
              "        text-align: right;\n",
              "    }\n",
              "</style>\n",
              "<table border=\"1\" class=\"dataframe\">\n",
              "  <thead>\n",
              "    <tr style=\"text-align: right;\">\n",
              "      <th></th>\n",
              "      <th>Issue ID</th>\n",
              "      <th>Title</th>\n",
              "      <th>word_counts</th>\n",
              "      <th>char_counts</th>\n",
              "      <th>avg_word_len</th>\n",
              "      <th>stop_words_len</th>\n",
              "      <th>numeric_count</th>\n",
              "      <th>upper_words_count</th>\n",
              "    </tr>\n",
              "  </thead>\n",
              "  <tbody>\n",
              "    <tr>\n",
              "      <th>2459</th>\n",
              "      <td>2578</td>\n",
              "      <td>help to make cxss</td>\n",
              "      <td>4</td>\n",
              "      <td>14</td>\n",
              "      <td>3.500000</td>\n",
              "      <td>2</td>\n",
              "      <td>0</td>\n",
              "      <td>0</td>\n",
              "    </tr>\n",
              "    <tr>\n",
              "      <th>2207</th>\n",
              "      <td>2318</td>\n",
              "      <td>not able to make bom report</td>\n",
              "      <td>6</td>\n",
              "      <td>22</td>\n",
              "      <td>3.666667</td>\n",
              "      <td>2</td>\n",
              "      <td>0</td>\n",
              "      <td>0</td>\n",
              "    </tr>\n",
              "    <tr>\n",
              "      <th>2366</th>\n",
              "      <td>2477</td>\n",
              "      <td>error on pnas report where used</td>\n",
              "      <td>6</td>\n",
              "      <td>26</td>\n",
              "      <td>4.333333</td>\n",
              "      <td>2</td>\n",
              "      <td>0</td>\n",
              "      <td>0</td>\n",
              "    </tr>\n",
              "    <tr>\n",
              "      <th>2374</th>\n",
              "      <td>2485</td>\n",
              "      <td>re create cad part of c1111041429</td>\n",
              "      <td>6</td>\n",
              "      <td>29</td>\n",
              "      <td>4.833333</td>\n",
              "      <td>2</td>\n",
              "      <td>0</td>\n",
              "      <td>0</td>\n",
              "    </tr>\n",
              "    <tr>\n",
              "      <th>1700</th>\n",
              "      <td>1807</td>\n",
              "      <td>fw delete item revision</td>\n",
              "      <td>4</td>\n",
              "      <td>21</td>\n",
              "      <td>5.250000</td>\n",
              "      <td>0</td>\n",
              "      <td>0</td>\n",
              "      <td>0</td>\n",
              "    </tr>\n",
              "  </tbody>\n",
              "</table>\n",
              "</div>"
            ],
            "text/plain": [
              "      Issue ID  ... upper_words_count\n",
              "2459      2578  ...                 0\n",
              "2207      2318  ...                 0\n",
              "2366      2477  ...                 0\n",
              "2374      2485  ...                 0\n",
              "1700      1807  ...                 0\n",
              "\n",
              "[5 rows x 8 columns]"
            ]
          },
          "metadata": {
            "tags": []
          },
          "execution_count": 33
        }
      ]
    },
    {
      "cell_type": "code",
      "metadata": {
        "colab": {
          "base_uri": "https://localhost:8080/",
          "height": 419
        },
        "id": "Upma-lfhh1T_",
        "outputId": "41edf55e-3e78-4afa-bdf9-1e52acedfd84"
      },
      "source": [
        "df"
      ],
      "execution_count": null,
      "outputs": [
        {
          "output_type": "execute_result",
          "data": {
            "text/html": [
              "<div>\n",
              "<style scoped>\n",
              "    .dataframe tbody tr th:only-of-type {\n",
              "        vertical-align: middle;\n",
              "    }\n",
              "\n",
              "    .dataframe tbody tr th {\n",
              "        vertical-align: top;\n",
              "    }\n",
              "\n",
              "    .dataframe thead th {\n",
              "        text-align: right;\n",
              "    }\n",
              "</style>\n",
              "<table border=\"1\" class=\"dataframe\">\n",
              "  <thead>\n",
              "    <tr style=\"text-align: right;\">\n",
              "      <th></th>\n",
              "      <th>Issue ID</th>\n",
              "      <th>Title</th>\n",
              "      <th>word_counts</th>\n",
              "      <th>char_counts</th>\n",
              "      <th>avg_word_len</th>\n",
              "      <th>stop_words_len</th>\n",
              "      <th>numeric_count</th>\n",
              "      <th>upper_words_count</th>\n",
              "    </tr>\n",
              "  </thead>\n",
              "  <tbody>\n",
              "    <tr>\n",
              "      <th>0</th>\n",
              "      <td>2142</td>\n",
              "      <td>er classification quality improvement</td>\n",
              "      <td>3</td>\n",
              "      <td>35</td>\n",
              "      <td>11.666667</td>\n",
              "      <td>0</td>\n",
              "      <td>0</td>\n",
              "      <td>0</td>\n",
              "    </tr>\n",
              "    <tr>\n",
              "      <th>1</th>\n",
              "      <td>2182</td>\n",
              "      <td>er step type dataset</td>\n",
              "      <td>3</td>\n",
              "      <td>18</td>\n",
              "      <td>6.000000</td>\n",
              "      <td>0</td>\n",
              "      <td>0</td>\n",
              "      <td>0</td>\n",
              "    </tr>\n",
              "    <tr>\n",
              "      <th>2</th>\n",
              "      <td>2229</td>\n",
              "      <td>er bom report issues</td>\n",
              "      <td>3</td>\n",
              "      <td>18</td>\n",
              "      <td>6.000000</td>\n",
              "      <td>0</td>\n",
              "      <td>0</td>\n",
              "      <td>0</td>\n",
              "    </tr>\n",
              "    <tr>\n",
              "      <th>3</th>\n",
              "      <td>2497</td>\n",
              "      <td>er vs vekt fra tc til sap</td>\n",
              "      <td>6</td>\n",
              "      <td>21</td>\n",
              "      <td>3.500000</td>\n",
              "      <td>0</td>\n",
              "      <td>0</td>\n",
              "      <td>0</td>\n",
              "    </tr>\n",
              "    <tr>\n",
              "      <th>4</th>\n",
              "      <td>2508</td>\n",
              "      <td>er vs vekt fra tc til sap</td>\n",
              "      <td>6</td>\n",
              "      <td>21</td>\n",
              "      <td>3.500000</td>\n",
              "      <td>0</td>\n",
              "      <td>0</td>\n",
              "      <td>0</td>\n",
              "    </tr>\n",
              "    <tr>\n",
              "      <th>...</th>\n",
              "      <td>...</td>\n",
              "      <td>...</td>\n",
              "      <td>...</td>\n",
              "      <td>...</td>\n",
              "      <td>...</td>\n",
              "      <td>...</td>\n",
              "      <td>...</td>\n",
              "      <td>...</td>\n",
              "    </tr>\n",
              "    <tr>\n",
              "      <th>2893</th>\n",
              "      <td>1326</td>\n",
              "      <td>dc0201996 error</td>\n",
              "      <td>2</td>\n",
              "      <td>14</td>\n",
              "      <td>7.000000</td>\n",
              "      <td>0</td>\n",
              "      <td>0</td>\n",
              "      <td>0</td>\n",
              "    </tr>\n",
              "    <tr>\n",
              "      <th>2894</th>\n",
              "      <td>1334</td>\n",
              "      <td>dc0202059 error</td>\n",
              "      <td>2</td>\n",
              "      <td>14</td>\n",
              "      <td>7.000000</td>\n",
              "      <td>0</td>\n",
              "      <td>0</td>\n",
              "      <td>0</td>\n",
              "    </tr>\n",
              "    <tr>\n",
              "      <th>2895</th>\n",
              "      <td>1344</td>\n",
              "      <td>type of error when saving bom in tc</td>\n",
              "      <td>8</td>\n",
              "      <td>28</td>\n",
              "      <td>3.500000</td>\n",
              "      <td>3</td>\n",
              "      <td>0</td>\n",
              "      <td>0</td>\n",
              "    </tr>\n",
              "    <tr>\n",
              "      <th>2896</th>\n",
              "      <td>1346</td>\n",
              "      <td>urgent cad files of standard parts</td>\n",
              "      <td>6</td>\n",
              "      <td>31</td>\n",
              "      <td>5.166667</td>\n",
              "      <td>1</td>\n",
              "      <td>0</td>\n",
              "      <td>0</td>\n",
              "    </tr>\n",
              "    <tr>\n",
              "      <th>2897</th>\n",
              "      <td>1795</td>\n",
              "      <td>search on legacy items gives noe results</td>\n",
              "      <td>7</td>\n",
              "      <td>34</td>\n",
              "      <td>4.857143</td>\n",
              "      <td>1</td>\n",
              "      <td>0</td>\n",
              "      <td>0</td>\n",
              "    </tr>\n",
              "  </tbody>\n",
              "</table>\n",
              "<p>2898 rows × 8 columns</p>\n",
              "</div>"
            ],
            "text/plain": [
              "      Issue ID  ... upper_words_count\n",
              "0         2142  ...                 0\n",
              "1         2182  ...                 0\n",
              "2         2229  ...                 0\n",
              "3         2497  ...                 0\n",
              "4         2508  ...                 0\n",
              "...        ...  ...               ...\n",
              "2893      1326  ...                 0\n",
              "2894      1334  ...                 0\n",
              "2895      1344  ...                 0\n",
              "2896      1346  ...                 0\n",
              "2897      1795  ...                 0\n",
              "\n",
              "[2898 rows x 8 columns]"
            ]
          },
          "metadata": {
            "tags": []
          },
          "execution_count": 34
        }
      ]
    },
    {
      "cell_type": "markdown",
      "metadata": {
        "id": "Kzy7yYh4iAAF"
      },
      "source": [
        "removing multiple spaces"
      ]
    },
    {
      "cell_type": "code",
      "metadata": {
        "id": "p_2_GMofh4d9"
      },
      "source": [
        "df['Title']=df['Title'].apply(lambda x: ' '.join(x.split()))"
      ],
      "execution_count": null,
      "outputs": []
    },
    {
      "cell_type": "markdown",
      "metadata": {
        "id": "IBr4V-x3itkr"
      },
      "source": [
        "remove accenterd chars"
      ]
    },
    {
      "cell_type": "code",
      "metadata": {
        "id": "pGbwPE1UiL9_"
      },
      "source": [
        "import unicodedata\n",
        "def remove_accented_chars(x):\n",
        "    x=unicodedata.normalize('NFKD',x).encode('ascii','ignore').decode('utf-8','ignore')\n",
        "    return x"
      ],
      "execution_count": null,
      "outputs": []
    },
    {
      "cell_type": "code",
      "metadata": {
        "id": "3yY7Q-0nilxT"
      },
      "source": [
        "df['Title']=df['Title'].apply(lambda x: remove_accented_chars(x))"
      ],
      "execution_count": null,
      "outputs": []
    },
    {
      "cell_type": "markdown",
      "metadata": {
        "id": "F4dcRxbhjAT9"
      },
      "source": [
        "word cloud visualization of titles\n"
      ]
    },
    {
      "cell_type": "code",
      "metadata": {
        "colab": {
          "base_uri": "https://localhost:8080/",
          "height": 198
        },
        "id": "ot-6npNbivvo",
        "outputId": "c5444522-f27e-449e-8862-97b978c9d145"
      },
      "source": [
        "from wordcloud import WordCloud\n",
        "import matplotlib.pyplot as plt\n",
        "% matplotlib inline\n",
        "\n",
        "text = ' '.join(df['Title'])\n",
        "\n",
        "wc= WordCloud(width=1000, height=500).generate(text)\n",
        "plt.imshow(wc)\n",
        "plt.axis('off')\n",
        "plt.show()"
      ],
      "execution_count": null,
      "outputs": [
        {
          "output_type": "display_data",
          "data": {
            "image/png": "[encoded data removed]",
            "text/plain": [
              "<Figure size 432x288 with 1 Axes>"
            ]
          },
          "metadata": {
            "tags": [],
            "needs_background": "light"
          }
        }
      ]
    },
    {
      "cell_type": "markdown",
      "metadata": {
        "id": "MRbRVYlCj3Nk"
      },
      "source": [
        "TfidfVectorizer"
      ]
    },
    {
      "cell_type": "code",
      "metadata": {
        "id": "4PVt1zR4jWcO"
      },
      "source": [
        "from sklearn.feature_extraction.text import TfidfVectorizer\n",
        "from sklearn.cluster import KMeans"
      ],
      "execution_count": null,
      "outputs": []
    },
    {
      "cell_type": "markdown",
      "metadata": {
        "id": "neM3aHOsw2OF"
      },
      "source": [
        "![image.png](data:image/png;base64,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)"
      ]
    },
    {
      "cell_type": "markdown",
      "metadata": {
        "id": "rwFA4gIFpoD0"
      },
      "source": [
        "The tf–idf value increases proportionally to the number of times a word appears in the document\n",
        "\n",
        "In information retrieval, tf–idf, TF*IDF, or TFIDF, short for term frequency–inverse document frequency, is a numerical statistic that is intended to reflect how important a word is to a document in a collection"
      ]
    },
    {
      "cell_type": "markdown",
      "metadata": {
        "id": "KMoBieJFrhpY"
      },
      "source": [
        "**Term Frequency — TF**\n",
        "\n",
        "The term frequency tf(t, d) measures how frequently a term t occurs in a document d, giving a highers weight to more frequent terms.\n",
        "\n",
        "**tf(t,d)=log(1+ freq(t,d))**\n",
        "\n",
        "**Inverse Document Frequency — IDF**\n",
        "\n",
        "The inverse document frequency idf(t, D) measures the importance of a term t in a set of documents D. This statistic lowers the importance of frequent terms with low importance and increases the weight of rare terms that give more meaning to a text.\n",
        "\n",
        "**idf(t,D)=log(N/ count(d belongs to D , t belongs to d))**\n",
        "\n",
        "**The product of tf(t, d) by idf(t, D) yields the tf-idf score for each term.**\n"
      ]
    },
    {
      "cell_type": "code",
      "metadata": {
        "colab": {
          "base_uri": "https://localhost:8080/"
        },
        "id": "ZawPMZJej-0B",
        "outputId": "5242856f-4e4e-4897-832b-a44c904040f0"
      },
      "source": [
        "document=df['Title']\n",
        "vectorizer =TfidfVectorizer(stop_words='english') # to remoce stop words\n",
        "features = vectorizer.fit_transform(document) # Tf-idf-weighted document-term matrix.term frequency and inverse document frequency\n",
        "print(vectorizer.get_feature_names())"
      ],
      "execution_count": null,
      "outputs": [
        {
          "output_type": "stream",
          "text": [
            "['00', '0003', '004333', '01', '014', '0180', '0181', '0182', '02', '03', '04', '046117', '069', '09', '09_36_03', '10', '100', '10010', '108', '1080', '10x1', '11', '110', '11024', '1110', '111324086', '111324586', '111325086', '111339986', '111366786', '111372786', '111387186', '111410786', '111438786', '111445786', '111455486', '111455586', '111465086', '111485586', '111570786', '11161', '111663586', '113399', '12', '12400', '12408', '12410', '12412', '127009', '13287', '13288', '14008', '14016', '14016_c1111011758_bom_report_15_06_2018_10_31_46', '14519', '14544', '14tegn', '150', '155', '161017_hrs', '16419', '16428', '16430', '16430_c1111008173_bom_report_18_02_2019_13_02_45', '17', '17047', '17294', '17297', '17318', '17320', '17326', '17327', '17333', '17345', '17346', '177', '18', '180', '181', '19', '19502', '20', '200028622', '200030783', '200031838', '200041391', '2011', '2017', '2018', '2019', '204828', '21', '218_23', '21crmov5', '22', '22006', '22011', '22016', '22017', '22020', '22021', '22022', '22023', '22024', '22025', '22026', '22028', '22030', '22031', '22527', '22529', '22545', '22562', '22l', '23500', '23507', '23513', '24', '24000', '24001', '24500', '25500', '25502', '25502_d', '27', '28', '29', '30', '3000l', '304728', '306767', '315', '316', '316020', '316030', '316100', '316230', '316250', '316l', '317010', '317070', '317090', '317100', '317130', '317150', '317170', '317180', '317190', '319', '32', '33', '33l6', '33l6a', '33l8p', '33l9', '34', '35', '36', '366786', '38', '3858', '3859', '39', '396', '3d', '3x5', '40', '403375', '405000160', '405000421', '40crmov4', '40v', '40v16', '40v16a', '40v16ah', '40v20a', '40v20ag2', '41', '41re', '42', '425183', '431957', '441839', '45', '45l', '45l6', '45l6ag', '45v', '45v12', '45v16', '45v20', '45v20a', '46', '47', '48', '4x4', '5000008910', '5000011863', '5003001148', '51', '540', '56l6', '58994', '61', '63', '67', '705420', '708792', '75', '750', '7518', '76', '81', '84', '85', '86', '87', '878', '88', '919011', '919039', '91_sent', '92', '94', '95', '980', '99', '_replaced', 'a516', 'abel', 'able', 'abort', 'aborting', 'abs', 'acc', 'access', 'according', 'acrobat', 'act', 'action', 'activate', 'active', 'actually', 'add', 'added', 'adding', 'addition', 'additional', 'additon', 'admin', 'adobe', 'aftermarket', 'ag2', 'air', 'aisi', 'aksling', 'align', 'allen', 'allow', 'allowed', 'alt', 'alt1', 'altamira', 'alternators', 'altrep', 'amendment', 'analysis', 'ancora', 'andre', 'ang', 'anlegg', 'anleggspes', 'anleggsspes', 'apne', 'apnes', 'apning', 'application', 'application_on', 'approval', 'approvals', 'approve', 'approved', 'approvel', 'approver', 'approvers', 'approvin', 'approving', 'apprving', 'aproval', 'ar', 'ar_', 'ar_713174', 'armon', 'arr', 'arrangement', 'arrangements', 'art', 'article', 'articles', 'artikel', 'artikkel', 'artikkelinfo', 'artikkelnummer', 'artikkler', 'artikler', 'asap', 'assembley', 'assembly', 'assign', 'assigned', 'assignement', 'assistance', 'assy', 'att', 'attached', 'attaching', 'attribute', 'attributes', 'attributts', 'auto', 'automatic', 'automatically', 'av', 'available', 'avklaring', 'avoid', 'avr61146', 'avtalt', 'avvik', 'avvist', 'b0', 'b1078_82', 'b1111_11', 'b1174_30', 'b1200_46', 'b1202', 'b1203', 'b8m', 'baan', 'bacelona', 'bae', 'barosso', 'based', 'basic', 'bauhiresh', 'bauhiresher', 'bauhireshs', 'baustain', 'baustien', 'bc', 'bd', 'bd22571', 'bearing', 'bearing_13290', 'befor', 'behalda', 'behandlet', 'belonging', 'bench', 'bends', 'besa', 'beskrivelse', 'better', 'big', 'blank', 'block', 'blocks', 'blokk', 'board', 'body', 'bolt', 'bolter', 'bolts', 'bom', 'bom_c1111011276_bom_report_23_04_2018', 'boms', 'book', 'bop', 'boss', 'box', 'bracket', 'brackets', 'brakett', 'branch', 'brevik', 'bruke', 'bss', 'bt', 'btw', 'buffer', 'bulk', 'bulkheads', 'business', 'button', 'bv', 'bvr', 'c1021_24', 'c1027_83', 'c1079', 'c1111', 'c11110001671', 'c1111000508', 'c1111000509', 'c1111000609', 'c1111000676', 'c1111000712', 'c1111000717', 'c1111000734', 'c1111000829', 'c1111000891', 'c1111000912', 'c1111001046', 'c1111001165', 'c1111001333', 'c1111001340', 'c1111001395', 'c1111001488', 'c1111002122', 'c1111002944', 'c1111003164', 'c1111003397', 'c1111003489', 'c1111003556', 'c1111003632', 'c1111004326', 'c1111004405', 'c1111004493', 'c1111004710', 'c1111004760', 'c1111004788', 'c1111004846', 'c1111004895', 'c1111004960', 'c1111004965', 'c1111005467', 'c1111005504', 'c1111005766', 'c1111005769', 'c1111005807', 'c1111005865', 'c1111005940', 'c1111006020', 'c1111006058', 'c1111006096', 'c1111006199', 'c1111006274', 'c1111006368', 'c1111006509', 'c1111006523', 'c1111006598', 'c1111006673', 'c1111006679', 'c1111006680', 'c1111006808', 'c1111006839', 'c1111006850', 'c1111006864', 'c1111006873', 'c1111007004', 'c1111007109', 'c1111007154', 'c1111007282', 'c1111007312', 'c1111007342', 'c1111007430', 'c1111007475', 'c1111007566', 'c1111007578', 'c1111007581', 'c1111007707', 'c1111007784', 'c1111007834', 'c1111007898', 'c1111007903', 'c1111007963', 'c1111008004', 'c1111008014', 'c1111008229', 'c1111008314', 'c1111008380', 'c1111008411', 'c1111008442', 'c1111008464', 'c1111008531', 'c1111008581', 'c1111008616', 'c1111008637', 'c1111008681', 'c1111008704', 'c1111008720', 'c1111008783', 'c1111008810', 'c1111008811', 'c1111009083', 'c1111009134', 'c1111009137', 'c1111009284', 'c1111009349_dwg', 'c1111009363', 'c1111009376', 'c1111009542', 'c1111009598', 'c1111009616', 'c1111009636', 'c1111009687', 'c1111009787', 'c1111009820', 'c1111009831', 'c1111009888', 'c1111010064', 'c1111010066', 'c1111010075', 'c1111010076', 'c1111010088', 'c1111010101', 'c1111010145', 'c1111010164', 'c1111010187', 'c1111010189', 'c1111010258', 'c1111010355', 'c1111010434', 'c1111010571', 'c1111010572', 'c1111010575', 'c1111010587', 'c1111010605', 'c1111010607', 'c1111010691', 'c1111010700', 'c1111010807', 'c1111010848', 'c1111010891', 'c1111010898', 'c1111010964', 'c1111011007', 'c1111011009', 'c1111011015', 'c1111011016', 'c1111011039', 'c1111011041', 'c1111011204', 'c1111011308', 'c1111011351', 'c1111011442', 'c1111011455', 'c1111011462', 'c1111011466', 'c1111011494', 'c1111011512', 'c1111011531', 'c1111011534', 'c1111011540', 'c1111011618', 'c1111011619', 'c1111011632', 'c1111011722', 'c1111011738', 'c1111011749', 'c1111011824', 'c1111011968', 'c1111011982', 'c1111012059', 'c1111012111', 'c1111012159', 'c1111012182', 'c1111012255', 'c1111012256', 'c1111012448', 'c1111012512', 'c1111012637', 'c1111012709', 'c1111012733', 'c1111012814', 'c1111012815', 'c1111012817', 'c1111012830', 'c1111012831', 'c1111012838', 'c1111012900', 'c1111012910', 'c1111012929', 'c1111012947', 'c1111013000', 'c1111013048', 'c1111013078', 'c1111013079', 'c1111013093', 'c1111013094', 'c1111013095', 'c1111013096', 'c1111013141', 'c1111013269', 'c1111013295', 'c1111013333', 'c1111013451', 'c1111013454', 'c1111013455', 'c1111013500', 'c1111013618', 'c1111013747', 'c1111013762', 'c1111013772', 'c1111013890', 'c1111014', 'c1111014067', 'c1111014099', 'c1111014201', 'c1111014233_a', 'c1111014254', 'c1111014330', 'c1111014493', 'c1111014499', 'c1111014601', 'c1111014640', 'c1111014642', 'c1111014744', 'c1111014749', 'c1111014758', 'c1111014774', 'c1111014918', 'c1111015429', 'c1111015510', 'c1111015534', 'c1111015616', 'c1111015701', 'c1111016141', 'c1111016151', 'c1111016265', 'c1111016371', 'c1111016401', 'c1111016477', 'c1111016723', 'c1111016955', 'c1111016956', 'c1111017095', 'c1111017105', 'c1111017393', 'c1111017397', 'c1111017399', 'c1111017449', 'c1111017453', 'c1111017828', 'c1111018241', 'c1111018522', 'c1111018523', 'c1111019050', 'c1111019304', 'c11110194', 'c1111019454', 'c1111019463', 'c1111019485', 'c1111019487', 'c1111019506', 'c1111019523', 'c1111019524', 'c1111019525', 'c1111019526', 'c1111019958', 'c1111019968', 'c1111037067', 'c1111037130', 'c1111037291', 'c1111037390', 'c1111037395', 'c1111037420', 'c1111037428', 'c1111037522', 'c1111037547', 'c1111037997', 'c1111038272', 'c1111038279', 'c1111038543', 'c1111038618', 'c1111038692', 'c1111038701', 'c1111038764_0', 'c1111038854', 'c1111038909', 'c1111038955', 'c1111038975', 'c1111038987', 'c1111038988', 'c1111039083', 'c1111039138', 'c1111039140', 'c1111039246', 'c1111039270', 'c1111039305', 'c1111039327', 'c1111039403', 'c1111039532', 'c1111039538', 'c1111039720', 'c1111039792', 'c1111039846', 'c1111039866', 'c1111040006', 'c1111040030', 'c1111040660', 'c1111040802', 'c1111040838', 'c1111040956', 'c1111040960', 'c1111040962', 'c1111040980', 'c1111041051', 'c1111041066', 'c1111041094', 'c1111041308', 'c1111041413', 'c1111041429', 'c1111041430', 'c1111041520', 'c1111041555', 'c1111041665', 'c1111041718', 'c1111041764', 'c1111041788', 'c1111041798', 'c1111041800', 'c1111041801', 'c1111041861', 'c1111042611', 'c1111042641', 'c1111042734', 'c1111042751', 'c1111042806', 'c1111042886', 'c111104298', 'c1111043007', 'c1111043957', 'c1111044453', 'c1111044594', 'c1111044623', 'c1111044698', 'c1157_47', 'c480', 'c795', 'cabinet', 'cable', 'cables', 'cad', 'called', 'callout', 'cammel', 'cancel', 'cap', 'capture', 'card', 'cardinality', 'cards', 'case', 'categories', 'category', 'cc', 'center', 'central', 'cert', 'certificate', 'chang', 'change', 'changed', 'changer', 'changes', 'changing', 'check', 'checker', 'checking', 'checks', 'child', 'china', 'chjange', 'chn', 'choice', 'cix', 'claim', 'clarification', 'clas', 'clasidication', 'clasification', 'class', 'classefication', 'classes', 'classifcation', 'classification', 'classifications', 'classified', 'classify', 'classinspection', 'clean', 'cleaner', 'cleaning', 'cleanup', 'client', 'clone', 'cloned', 'cloning', 'close', 'cock', 'code', 'codes', 'coil', 'collection', 'color', 'comissioning', 'command', 'commissioning', 'compare', 'compl', 'complete', 'completed', 'component', 'components', 'compressor', 'computer', 'condition', 'config', 'configration', 'configuration', 'configurator', 'confirmed', 'conflict', 'connect', 'connecting', 'connection', 'connections', 'cons', 'contact', 'content', 'continue', 'control', 'convert', 'converted', 'converting', 'cooler', 'cooli', 'copy', 'corr', 'correct', 'correcting', 'correction', 'corrections', 'correctly', 'costing', 'counter', 'countersunk', 'coupling', 'couplings', 'cover', 'cpm', 'crank', 'crankcase', 'crankshaft', 'crash', 'crashes', 'create', 'created', 'creating', 'creation', 'critical', 'crown', 'curves', 'cust', 'custom', 'customer', 'cw', 'cxss', 'cxss00102436', 'cxss00102615', 'cxss00424034', 'cxss00433479', 'cxss00434616', 'cxss00436566', 'cxss00438401', 'cxss00439112', 'cxss00439862', 'cxss00441269', 'cxss00443057', 'cxss00443747', 'cxss00443749', 'cxss00443856', 'cxss00444739', 'cxss00445479', 'cxss00445533', 'cxss00445552', 'cxss00446742', 'cxss00446873', 'cxss00601458', 'cxss00703073', 'cxss00703484', 'cxss00703838', 'cxss00704310', 'cxss00705791', 'cxss00706221', 'cxss00707367', 'cxss00707436', 'cxss00707540', 'cxss00708311', 'cxss00709235', 'cxss00709539', 'cxss00710010', 'cxss00710461', 'cxss00710716', 'cxss00711098', 'cxss00711941', 'cxss00711950', 'cxss00712057', 'cxss00712226', 'cxss00713003', 'cxssc1111001340', 'cxsss', 'cyl', 'cylinder', 'd1111010152', 'd1111010846', 'd1111010862', 'd1111010973', 'd1111011178', 'd1111011459', 'd1111013479', 'd1111014968', 'd1111015017', 'd1111016844', 'd1111018128', 'd1111018195', 'd1111020197', 'd1111020208', 'd1111020700', 'd1111021843', 'd1111022374', 'd1111022389', 'd1111022924', 'd1111024285', 'd1111024513', 'd1111024528', 'd1111024558', 'd1111047543', 'd1111047851', 'd1111048950', 'd1111053894', 'd1111061807', 'd1111062175', 'd1111063196', 'd1111063745', 'd1111065961', 'd1111087679', 'd1111087781', 'd1111090431', 'd1111100586', 'd1111101692', 'd1111101746', 'd1111101868', 'd1111101945', 'd1111102114', 'd1111102209', 'd1111102210', 'd1111102385', 'd1111102677', 'd1111102717', 'd1111102795', 'd1111102819', 'd1111200924', 'd1111201995', 'd1111203307', 'd1111203311', 'd1111203796', 'd1111203972', 'd1111204037', 'd1111204509', 'd1111204822', 'd1111205581', 'd1111302712', 'd1111304210', 'd1111305244', 'd1111305287', 'd1111305998', 'd1111306696', 'd1111309233', 'd1111309283', 'd1111309747', 'd1111310292', 'd1111310426', 'd1111404301', 'd1111410413', 'd1111415705', 'd1111417223', 'd1111418745', 'd1111418834', 'd1111419204', 'd1111420449', 'd1111421289', 'd1111421476', 'd1111423524', 'd1111423525', 'd1111423593', 'd1111423869', 'd1111424631', 'd1111425688', 'd1111425891', 'd1111426064', 'd1111428499', 'd1111428759', 'd1111428804', 'd1111429864', 'd1111429967', 'd1111432943', 'd1111433205', 'd1111433530', 'd1111433539', 'd1111435577', 'd1111435879', 'd1111439580', 'd1111439859', 'd1111440212', 'd1111440526', 'd1111440825', 'd1111442159', 'd1111442268', 'd1111442282', 'd1111442968', 'd1111443157', 'd1111443441_a', 'd1111443452', 'd1111443690', 'd1111444274_old', 'd1111444448', 'd1111444801', 'd1111444974', 'd1111445267', 'd1111445694', 'd1111445716', 'd1111446309', 'd1111446332', 'd1111446478', 'd1111446647', 'd1111447015', 'd1111447082', 'd1111447190', 'd1111447201', 'd1111600401', 'd1111601376', 'd1111601395', 'd1111601426', 'd1111700395', 'd1111700902', 'd1111700992', 'd1111701062', 'd1111701191', 'd1111701201', 'd1111701303', 'd1111701457', 'd1111701594', 'd1111702313', 'd1111702499', 'd1111703292', 'd1111703326', 'd1111703484', 'd1111703986', 'd1111704294', 'd1111704309', 'd1111704420', 'd1111704448', 'd1111704671', 'd1111705134', 'd1111705137', 'd1111705350', 'd1111705370', 'd1111705741', 'd1111705783', 'd1111706167', 'd1111706212', 'd1111706213', 'd1111706298', 'd1111706562', 'd1111706599', 'd1111706890', 'd1111706931', 'd1111706931_a', 'd1111706991and', 'd1111706992', 'd1111707176', 'd1111707478', 'd1111707540', 'd1111708008', 'd1111708128', 'd1111708209', 'd1111708243', 'd1111708266', 'd1111708318', 'd1111708339', 'd1111708504', 'd1111708583', 'd1111708630', 'd1111708837', 'd1111708958', 'd1111709048', 'd1111709196', 'd1111709298', 'd111170939', 'd1111709391', 'd1111709509', 'd1111709540', 'd1111709569', 'd1111709676', 'd1111709742', 'd1111709931', 'd1111710631', 'd1111710704', 'd1111710917', 'd1111710925', 'd1111710971', 'd1111711096', 'd1111711177', 'd1111711418', 'd1111711426', 'd1111711569', 'd1111711652', 'd1111711728', 'd1111711847', 'd1111711886', 'd1111712070', 'd1111712226', 'd1111712238', 'd1111712457', 'd1111712484', 'd1111712597', 'd1111712637', 'd1111712644', 'd1111712688', 'd1111712861', 'd1111713112', 'd1111713118', 'd1111713229', 'd1111713246', 'd1111713367', 'd1111809045', 'd1111809595', 'd1111809600', 'd1111809656', 'd22001_62', 'd22004_80', 'd225', 'd226', 'd22633l6a', 'd22633l6p', 'd22633l8a', 'd22633l9a', 'd22x', 'damen', 'data', 'dataset', 'datasets', 'datasett', 'dba', 'dc', 'dc000005', 'dc005612', 'dc006358', 'dc006452', 'dc006757', 'dc006854', 'dc006969', 'dc007079', 'dc007312', 'dc007426', 'dc007540', 'dc008695', 'dc0200079', 'dc0200124', 'dc0200205', 'dc0200333', 'dc0200374', 'dc0200375', 'dc0200376', 'dc0200397', 'dc0200416', 'dc0200418', 'dc0200419', 'dc0200478', 'dc0200484', 'dc0200485', 'dc0200488', 'dc0200503', 'dc02005082', 'dc0200511', 'dc0200512', 'dc0200520', 'dc0200524', 'dc0200528', 'dc0200530', 'dc0200531', 'dc0200542', 'dc0200543', 'dc0200544', 'dc0200546', 'dc0200557', 'dc0200561', 'dc0200567', 'dc0200573', 'dc0200576', 'dc0200580', 'dc0200583', 'dc0200585', 'dc0200601', 'dc0200625', 'dc0200644', 'dc0200646', 'dc0200652', 'dc0200659', 'dc0200662', 'dc0200671', 'dc0200672', 'dc0200673', 'dc0200676', 'dc0200689', 'dc0200701', 'dc0200712', 'dc0200718', 'dc0200720', 'dc0200771', 'dc0200775', 'dc0200789', 'dc0200794', 'dc0200803', 'dc0200805', 'dc0200811', 'dc0200830', 'dc0200841', 'dc0200844', 'dc0200848', 'dc0200851', 'dc0200852', 'dc0200856', 'dc0200858', 'dc0200870', 'dc0200884', 'dc0200899', 'dc0200905', 'dc0200920', 'dc0200928', 'dc0200938', 'dc0200942', 'dc0200955', 'dc0200971', 'dc0200984', 'dc0200985', 'dc0200993', 'dc0200994', 'dc0200995', 'dc0201007', 'dc0201038', 'dc0201104', 'dc0201105', 'dc0201107', 'dc0201112', 'dc0201129', 'dc0201133', 'dc0201141', 'dc0201142', 'dc0201152', 'dc0201173', 'dc0201177', 'dc0201181', 'dc0201195', 'dc0201219', 'dc0201220', 'dc0201240', 'dc0201241', 'dc0201242', 'dc0201261', 'dc0201288', 'dc0201294', 'dc0201302', 'dc0201303', 'dc0201304', 'dc0201328', 'dc0201369', 'dc0201370', 'dc0201373', 'dc0201405', 'dc0201414', 'dc0201426', 'dc0201475', 'dc0201506', 'dc0201518', 'dc0201524', 'dc0201537', 'dc0201579', 'dc0201583', 'dc0201609', 'dc0201610', 'dc0201617', 'dc0201627', 'dc0201633', 'dc0201642', 'dc0201646_itemworkflowrules_28_06_2018_13_08_46', 'dc0201658', 'dc0201669', 'dc0201690', 'dc0201691', 'dc0201692', 'dc0201700', 'dc0201715', 'dc0201726', 'dc0201732', 'dc0201746', 'dc0201756', 'dc0201761', 'dc0201762', 'dc0201765', 'dc0201771', 'dc0201780', 'dc0201806', 'dc0201814', 'dc0201826', 'dc0201861', 'dc0201865', 'dc0201868', 'dc0201893', 'dc0201914', 'dc0201921', 'dc0201974', 'dc0201980', 'dc0201995', 'dc0201996', 'dc0202008', 'dc0202018', 'dc0202025', 'dc0202035', 'dc0202041', 'dc0202059', 'dc0202065', 'dc0202117', 'dc0202147', 'dc0202331', 'dc0202446', 'dc0202534', 'dc0202608', 'dc0202642', 'dc0202643', 'dc0202647', 'dc0202649', 'dc0202653', 'dc0202692', 'dc0202707', 'dc0202735', 'dc0202742', 'dc0202753', 'dc0202781', 'dc0202783', 'dc0202836', 'dc0202844', 'dc0202866', 'dc0202892', 'dc0202898', 'dc0202926', 'dc0202932', 'dc0202946', 'dc0202948', 'dc0202958', 'dc0202979', 'dc0203050', 'dc0203054', 'dc0203058', 'dc0203059', 'dc0203060', 'dc0203074', 'dc0203080', 'dc0203087', 'dc0203104', 'dc0203132', 'dc0203156', 'dc0203161', 'dc0203268', 'dc0203297', 'dc0203318', 'dc0203324', 'dc0203336', 'dc0203342', 'dc0203359', 'dc0203377', 'dc0203390', 'dc0203515', 'dc0203542', 'dc0203561', 'dc0203571', 'dc0203579', 'dc0203580', 'dc0203581', 'dc0203585', 'dc0203640', 'dc0203656', 'dc0203676', 'dc0203679', 'dc0203691', 'dc0203705', 'dc0203706', 'dc0203720', 'dc0203728', 'dc0203729', 'dc0203738', 'dc0203755', 'dc0203774', 'dc0203817', 'dc0203818', 'dc0203822', 'dc0203840', 'dc0203846', 'dc0203857', 'dc0203867', 'dc0203884', 'dc0203886', 'dc0203894', 'dc0203895', 'dc0203950', 'dc0203958', 'dc0203980', 'dc0203987', 'dc0203998', 'dc0204073', 'dc0204084', 'dc0204159', 'dc0204190', 'dc0204203', 'dc0204207', 'dc0204211', 'dc0204221', 'dc0204248', 'dc0204277', 'dc0204278', 'dc0204302', 'dc0204313', 'dc0204314', 'dc0204316', 'dc0204317', 'dc0204318', 'dc0204329', 'dc0204338', 'dc0204339', 'dc0204353', 'dc0204354', 'dc0204358', 'dc0204372', 'dc0204388', 'dc0204442', 'dc0204487', 'dc0204491', 'dc020450', 'dc0204503', 'dc0204542', 'dc0204566', 'dc0204569', 'dc0204575', 'dc0204601', 'dc0204617', 'dc0204666', 'dc0204671', 'dc0204762', 'dc0204764', 'dc0204781', 'dc0204785', 'dc0204794', 'dc0204844', 'dc0204875', 'dc0204942', 'dc0204972', 'dc0204973', 'dc0205042', 'dc0205078', 'dc0205135', 'dc0205174', 'dc0205184', 'dc0205222', 'dc0205265', 'dc0205280', 'dc0205300', 'dc021141', 'dead', 'decription', 'default', 'defaultbusystatus', 'define', 'degradation', 'dekkplater', 'deksel', 'deksler', 'deler', 'delete', 'deleted', 'deleteing', 'deleting', 'deletion', 'delhi', 'delivery', 'delte', 'demand', 'den', 'denied', 'desc', 'described', 'description', 'descriptions', 'deskription', 'det', 'dette', 'development', 'dialog', 'difference', 'dim', 'dimension', 'din', 'din931', 'disker', 'dismatch', 'dispaly', 'displayed', 'distributed', 'distribution', 'dn', 'dn25', 'dn700', 'dnv', 'dobbel', 'doc', 'document', 'docx', 'does', 'doesn', 'doing', 'don', 'donut', 'donutt', 'door', 'dosent', 'double', 'doughnutt', 'downloading', 'downstream', 'downtime', 'dr', 'dr1081', 'dr1173_57', 'dr5002', 'dr5003_84', 'dr5023_43', 'drafting', 'drag', 'drawing', 'drawings', 'drive', 'dropped', 'drw', 'drwaing', 'dry', 'dryrun', 'du', 'du1023138', 'dual', 'dublicate', 'dummy', 'duplicate', 'duplications', 'dw', 'dwg', 'ea1018570', 'eastern', 'ecc', 'ecm', 'ecn', 'ecn_preliminary_erp', 'ecns', 'edge', 'edit', 'editing', 'eidsvaag', 'eierskap', 'el', 'el4007_35', 'el4007_38', 'eldre', 'electric', 'electrical', 'elektrisk', 'element', 'elisabeths', 'eller', 'emailing', 'end', 'endr', 'endre', 'endring', 'endringsforslag', 'endringsmelding', 'eng', 'engine', 'engineering', 'enhancement', 'enhancment', 'enigne', 'enter', 'entry', 'environment', 'eqiupment', 'equip', 'equipment', 'er', 'erik', 'erp', 'err', 'erro', 'error', 'errors', 'estaleiros', 'ettersende', 'evt', 'ew', 'excel', 'excell', 'execute', 'exercise', 'exh', 'exhaust', 'exist', 'existing', 'exists', 'exp', 'expansion', 'exploding', 'export', 'exported', 'exporting', 'ext', 'extend', 'extende', 'extension', 'exter', 'external', 'extract', 'eye', 'f126_27', 'f143', 'f160', 'f163_02', 'f180_23', 'f181_78', 'f201_47', 'f201_48', 'f203_40', 'f204_52', 'f204_90', 'f204_92', 'f205_49', 'f207', 'f208', 'f209_62', 'f210_92', 'f211_06', 'f211_28', 'f212_33', 'f212_58', 'f213_21', 'f213_48', 'f215_18', 'f216_33', 'f217_80', 'f217_96', 'f218_11', 'f219_54', 'fail', 'faild', 'failed', 'failing', 'fails', 'failure', 'fallout', 'family', 'fan', 'far', 'fastener', 'fasteners', 'features', 'feil', 'feilklassifiserte', 'feilmelding', 'felmeddelande', 'ffkm', 'field', 'fil', 'file', 'filed', 'files', 'filled', 'filter', 'finished', 'finne', 'fish', 'fit', 'fitjar', 'fitted', 'fittings', 'fix', 'fixed', 'fixing', 'flag', 'flagg', 'flagged', 'flanges', 'flexible', 'flexim', 'flow', 'flywheel', 'fo', 'folder', 'folders', 'follow', 'following', 'follwing', 'forbedringsforslag', 'foresprsel', 'forgotten', 'forkammerhylse', 'forkantaksling', 'forkantmodul', 'form', 'format', 'forsinkede', 'forsk', 'forslag', 'forwarded', 'foundation', 'foundry', 'fr', 'fra', 'fro', 'frontpage', 'frste', 'fsteien', 'fuel', 'fullfrt', 'fully', 'functionalities', 'funksjon', 'funktion', 'fw', 'g017', 'g1078_66_e', 'g1158', 'g1173_14', 'g1173_15', 'g3000_55', 'g3001_21', 'g3002_02_d', 'g3004', 'g3007', 'g3007_59', 'g3007_77', 'g3009', 'g3009_28', 'g3009_99', 'g3010', 'g3010_75', 'g3012_47', 'g3015_45', 'g3015_89', 'g3020_74', 'g3021_15', 'g3021_25', 'g3022_20', 'g75b', 'gammel', 'gap', 'gas', 'gasket', 'gasstilsluxxxtning', 'gateway', 'generate', 'generated', 'generating', 'generation', 'generator', 'generatpe', 'geometric', 'geometry', 'geonisio', 'gepp', 'getting', 'gev', 'gijon', 'gitt', 'given', 'gives', 'gjres', 'glacier', 'gland', 'gok', 'golten', 'gondan', 'got', 'govenor', 'grado', 'graphics', 'green', 'greenhouse', 'grnn', 'grnne', 'groop', 'groope', 'group', 'groupe', 'gru', 'gruppe', 'guarding', 'ha', 'handling', 'happens', 'haster', 'havila', 'having', 'hd', 'head', 'help', 'henf', 'hex', 'hexagon', 'hfo', 'hhi', 'hi', 'hierachy', 'hierarchy', 'high', 'hint', 'hiresh', 'history', 'hit', 'hms', 'hole', 'hose', 'hoses', 'hu1017185', 'huc022490', 'hurtigruten', 'hvilken', 'hybrid', 'hydr', 'icon', 'id', 'idag', 'idoc', 'iems', 'igjen', 'ii', 'ikke', 'image', 'images', 'imo', 'impact', 'impacts', 'important', 'imported', 'impossible', 'improvement', 'included', 'incorrect', 'ind', 'index', 'indicator', 'info', 'information', 'ingen', 'ingeteam', 'initems', 'initial', 'injec', 'injection', 'inlet', 'inn', 'inngar', 'inpunt', 'input', 'inquiry', 'insert', 'install', 'installation', 'installere', 'installering', 'installing', 'installment', 'instead', 'instrumentation', 'insulation', 'intenal', 'interface', 'intermediate', 'internal', 'invalid', 'invenergy', 'ip', 'ipas', 'irmf', 'isolasjonspanel', 'issue', 'issued', 'issues', 'istand', 'istead', 'item', 'item_only_creation_template_v1', 'item_preliminary', 'itemd1111705656', 'itemd1111707658', 'itemitem', 'itemrevision', 'items', 'j5025pt', 'jb', 'jekke', 'jet', 'jev', 'join_', 'joints', 'jordings', 'jt', 'junction', 'junk', 'k70', 'k99', 'kan', 'keeps', 'ketil', 'kill', 'kit', 'kjlehylse', 'klasisfication', 'klasse', 'klassenavn', 'klasser', 'klassesuffix', 'klassifisering', 'kleven', 'koksring', 'komplett', 'komponent', 'konfigurator', 'kontrollert', 'kopi', 'kort', 'kortslag', 'krav', 'kringle', 'ksrm', 'kunne', 'kystruten', 'l660', 'l8', 'l9', 'l931_06', 'ladeluftkjler', 'lage', 'lagerbeholdning', 'laird', 'language', 'laptop', 'latest', 'layer', 'lead', 'legacy', 'lemkhul', 'lengde', 'length', 'lengths', 'letter', 'level', 'leveranser', 'levering', 'lewis', 'library', 'license', 'licensing', 'licesece', 'lifting', 'limit', 'liner', 'liners', 'linked', 'linking', 'list', 'list_18032019', 'liste', 'lists', 'liten', 'lo', 'load', 'loading', 'lock', 'locked', 'locking', 'log', 'logg', 'logge', 'loggin', 'logging', 'login', 'logon', 'long', 'look', 'loose', 'lop_x', 'losing', 'lost', 'lot', 'lse', 'lub', 'lubr', 'lubrication', 'luwuk', 'm10', 'm12', 'm12x110', 'm12x40', 'm16', 'm16x80', 'm18x150', 'm20x2', 'm27x120', 'm27x150', 'm27x60', 'm52x5', 'ma', 'mach', 'machined', 'machining', 'mai', 'mail', 'mailing', 'mails', 'main', 'make', 'making', 'male', 'malfunction', 'manage', 'managed', 'manager', 'mandatory', 'manglende', 'mangler', 'manifestation', 'manifoldcov', 'manufactorer', 'manufactoring', 'manufacturer', 'manufacturing', 'mapping', 'mapromec', 'marine', 'mark', 'marked', 'maskinering', 'maskinert', 'mass', 'master', 'matek', 'material', 'materials', 'maual', 'mb', 'mbearing', 'mc', 'mcc', 'mcp', 'mdo', 'mean', 'measure', 'measures', 'mechanical', 'med', 'medium', 'melding', 'meldinger', 'member', 'men', 'menu', 'message', 'messeage', 'metal', 'microsoft', 'midland', 'migrated', 'migration', 'migrations', 'miguser', 'min', 'minor', 'mising', 'misleading', 'mismatch', 'missing', 'mistake', 'misuse', 'mix', 'mm', 'mmi', 'mml', 'mnt', 'mod', 'model', 'modeling', 'modell', 'models', 'modified', 'modify', 'module', 'mom', 'morning', 'motor', 'motorblokk', 'motorer', 'motornr', 'mounting', 'mrb', 'mrd11117882', 'mrp', 'ms', 'ms3', 'ms5', 'msc', 'msg', 'mulig', 'multi', 'mutrar', 'mv', 'mw', 'na', 'name2', 'namechanges', 'named', 'names', 'naming', 'napier', 'nassco', 'native', 'navais', 'navn', 'nb', 'nb1088', 'nb66', 'ncr', 'neded', 'nedetid', 'nedre', 'need', 'needed', 'needs', 'neoelectra', 'nerc', 'network', 'new', 'niples', 'nivaet', 'nobrglt3376', 'nobrgsv0048', 'node', 'noe', 'non', 'nord', 'nordnorge', 'norlaks', 'norsk', 'nos', 'note', 'notepad', 'notice', 'notif', 'notification', 'notification_initial', 'notify', 'nox', 'nozzle', 'nr', 'nufri', 'number', 'numberin', 'numbering', 'numbers', 'nummer', 'nut', 'nx', 'nx11', 'nx8', 'ny', 'nye', 'o2', 'object', 'obselete', 'observasjon', 'obslolete', 'obsolete', 'obsolte', 'occured', 'ocm', 'ocn', 'ocn2', 'og', 'oil', 'ok', 'old', 'olympic', 'om', 'ombygginger', 'onninen', 'onother', 'open', 'opening', 'operation', 'oppdatere', 'oppdatering', 'oppdatert', 'oppgradert', 'oppretting', 'oppstarts', 'option', 'options', 'order', 'ordre', 'orer', 'org', 'outlet', 'outlook', 'output', 'overfring', 'overfrt', 'oversikt', 'overspeed', 'owner', 'ownership', 'owning', 'ownserhsip', 'p158', 'p250gh', 'pa', 'package', 'pad', 'pagar', 'pages', 'paint', 'pakning', 'palogging', 'parameter', 'parent', 'parts', 'passed', 'passord', 'password', 'past', 'paste', 'pasting', 'patch', 'pc', 'pcb', 'pcb11216', 'pcb11322', 'pcs', 'pdf', 'pending', 'percent', 'perform', 'pesquera', 'pfd', 'pg', 'ph', 'pieces', 'pins', 'pioner', 'pipe', 'piping', 'piston', 'pitch', 'pl', 'pl25', 'placing', 'plan', 'plana', 'plant', 'plants', 'plate', 'pleas', 'plf', 'plmnordic', 'plugging', 'plugs', 'pnas', 'pnas_c1111016595_bom_report_08_01_2020_15_12_38', 'pnas_c1111037997_bom_report_22_02_2019_09_40_16', 'pnas_seedpart', 'pnas_xkb02000902_bom_report_17_12_2019_14_38_37', 'po', 'po5000007274', 'po5000007404', 'pockets', 'point', 'pos', 'possible', 'post', 'postfix', 'power', 'pr', 'pre', 'preliminary', 'prelinenrary', 'pressure', 'priming', 'print', 'printing', 'prioritization', 'priority', 'problelms', 'problem', 'problemer', 'problems', 'procedure', 'procedures', 'process', 'processes', 'prod', 'product', 'production', 'produktinformasjon', 'programme', 'programs', 'project', 'projects', 'properties', 'property', 'prosedyre', 'prosedyrer', 'prosess', 'protector', 'provide', 'providing', 'proxy', 'prt', 'pru', 'ps3', 'pto', 'pump', 'pumpx3345l6', 'purchased', 'qn', 'qn200029878', 'qn200039621', 'qrelease', 'qs3', 'qt', 'quality', 'quantities', 'quantity', 'question', 'questions', 'quick', 'quotation', 'r1', 'rack', 'raport', 'raw', 'rb', 're1020256', 'reader', 'ready', 'rebuild', 'receive', 'receiver', 'receivers', 'reclassify', 'recognition', 'record', 'recovery', 'rectification', 'red', 'redistribution', 'reducer', 'ref', 'referance', 'referances', 'referece', 'reference', 'referenced', 'reflect', 'refrences', 'refresh', 'reg', 'regarding', 'regaring', 'register', 'registration', 'rejected', 'rejection', 'relaese', 'relase', 'relation', 'releaed', 'releas', 'release', 'released', 'releasing', 'relese', 'remame', 'reminder2', 'removal', 'remove', 'removed', 'removing', 'rename', 'renamed', 'renameing', 'renamin', 'renaming', 'renumber', 'renumbering', 'rep', 'replace', 'replaced', 'replacement', 'report', 'reports', 'request', 'require', 'required', 'requirement', 'requriement', 'resend', 'resent', 'reset', 'resilient', 'resolved', 'responsive', 'restart', 'restlevering', 'result', 'results', 'returdelforbedring', 'rev', 'revert', 'revice', 'review', 'revise', 'revised', 'revising', 'revision', 'revisiona', 'revisioning', 'revisions', 'revisjon', 'revison', 'rework', 'rfq', 'rfq_haster', 'rfq_new', 'rgk', 'ri1013384', 'ri1014945', 'rights', 'riktig', 'ring', 'risk', 'rivision', 'rnn', 'roblem', 'rod', 'role', 'room', 'root', 'routing', 'rr', 'rreb', 'rrpakke', 'rules', 'run', 'rund', 'rv', 's03258', 'sae', 'saga', 'sales', 'salesorder', 'salvage', 'samson', 'sap', 'satndard', 'save', 'saving', 'saying', 'says', 'scope', 'screw', 'script', 'sea', 'seafood', 'seamless', 'search', 'secured', 'select', 'self', 'selv', 'send', 'sende', 'sending', 'sens', 'sensor', 'sent', 'sequence', 'sertificate', 'sertifikat', 'server', 'servers', 'service', 'set', 'sett', 'setting', 'settings', 'setup', 'shaft', 'shanghai', 'sheet', 'sheets', 'shell', 'ship', 'shipment', 'shit', 'short', 'showing', 'shown', 'shows', 'shut', 'siden', 'sign', 'signe', 'signoff', 'signoffs', 'signplate', 'silencer', 'silencers', 'simelar', 'singel', 'single', 'sit', 'size', 'size2', 'sk', 'skal', 'sketch', 'skrivefeil', 'skriveleif', 'sleipner', 'slett', 'sletta', 'slm', 'slow', 'sluxxx', 'sm3011', 'small', 'snipping', 'so111324086', 'society', 'socity', 'socket', 'solution', 'som', 'sonora', 'south', 'spa', 'space', 'spare', 'spares', 'spec', 'special', 'specifiations', 'specific', 'specificaitons', 'specification', 'specifications', 'specifyed', 'specs', 'spes', 'spesial', 'spesutsendelse', 'splash', 'srq1030051', 'srq1054570', 'srq1076923', 'srq1083617', 'st', 'stadard', 'staffs', 'stainless', 'stal', 'standar', 'standard', 'standardpart', 'star', 'start', 'started', 'starter', 'starting', 'state', 'station', 'statsraad', 'status', 'statuss', 'stauff', 'std', 'steel', 'step', 'steps', 'stop', 'stopped', 'stops', 'stp', 'strange', 'strength', 'structur', 'structure', 'stud', 'stykkliste', 'stykklisten', 'stykklister', 'sub', 'subcomponents', 'subcontracting', 'subject', 'successfully', 'suction', 'suddenly', 'suffi', 'suffix', 'suffixed', 'suffixes', 'sufix', 'suggestion', 'suksess', 'sump', 'super', 'supplied', 'supplier', 'supply', 'supposed', 'suspect938', 'sv', 'sxb', 'syl', 'sylinderdeksel', 'symbol', 'sync', 'synlige', 't4s', 't4s_ps3_team', 't70', 'ta', 'tab', 'table', 'tag', 'taking', 'tank', 'tap', 'tarpaulin', 'task', 'tasks', 'tatt', 'tc', 'tc11', 'td', 'td0001_64', 'td0005_98', 'td0008_83', 'team', 'teamcenter', 'teamsenter', 'technical', 'tegning', 'tegninger', 'tegnings', 'tegningsendring', 'tegningsnummer', 'tegningsrevisjon', 'tegningsrevisjoner', 'tekst', 'temp', 'temperature', 'template', 'temporary', 'tersan', 'test', 'testing', 'testps', 'tet', 'text', 'texts', 'tgn', 'th', 'think', 'thoma', 'thomas', 'thoughts', 'threaded', 'ticket', 'tier', 'tif', 'tifs', 'til', 'tilbake', 'tillegg', 'time', 'title', 'tmp', 'today', 'tominskiy', 'tool', 'tools', 'tppgl', 'transfer', 'transferd', 'transfere', 'transferred', 'transformed', 'trays', 'trouble', 'try', 'trying', 'trykke', 'tuesday', 'tuning', 'tuningmass', 'turbocharger', 'turbolader', 'turn', 'tveiten', 'txt', 'type', 'typing', 'typo', 'uat', 'uen', 'ug', 'ug25', 'ugmaster', 'ugpart', 'uheldig', 'uht', 'umutt', 'unable', 'understand', 'undo', 'unexpected', 'unit', 'unlock', 'unrelasing', 'unrelease', 'unreleased', 'unreleasing', 'unsuccessful', 'unwanted', 'uom', 'update', 'updated', 'updates', 'updating', 'upgraded', 'uploading', 'upper', 'ups', 'urgent', 'urgently', 'url', 'urovekkende', 'use', 'used', 'user', 'users', 'using', 'ut', 'uten', 'utfasing', 'utfordringer', 'utgatt', 'uts', 'utsendelse', 'utstyr', 'utvikling', 'v1', 'v2', 'valid', 'value', 'valve', 'vannrom', 'var', 'vard', 'variant', 'various', 'ved', 'veivstake', 'vekt', 'vendor', 'vent', 'ventilation', 'ventilseteutboringer', 'verkstedsett', 'verkty', 'version', 'vevle', 'vibratec', 'view', 'viewer', 'viktig', 'virker', 'visable', 'visibility', 'visible', 'vlaues', 'vrake', 'vs', 'w_os', 'w_replaced', 'wago', 'wait', 'wanted', 'waring', 'warning', 'wat', 'water', 'wednesday', 'weight', 'weld', 'wessel', 'west', 'westcon', 'wg', 'whe', 'wheel', 'whn', 'whu', 'win10', 'wing', 'wire', 'wmc', 'won', 'woodward', 'word', 'work', 'workflow', 'workflows', 'working', 'works', 'workshop', 'workstation', 'write', 'wrong', 'wtf', 'wwep', 'wy', 'x2', 'x32', 'x33', 'x3345', 'x3345l', 'x3345l6a', 'x3345l8a', 'x3345l9', 'x3345l9p', 'x3345v12p', 'x35', 'x3540v', 'x3540v20', 'x3540v20a', 'x36', 'x3645l', 'x3645l6a', 'x3645l9', 'x3645l9a', 'x3645v', 'x3645v16', 'x3645v20', 'x3645v20a', 'x3x', 'x80', 'xfb', 'xkb', 'xkb02000104', 'xkb02000130', 'xkb02000220', 'xkb02000257', 'xkb02000332', 'xkb02000431', 'xkb02000458', 'xkb02000745', 'xkc1111013333', 'xkd1111000001', 'xkd1111000005', 'xkd1111000010', 'xkd1111000016', 'xkd1111000101', 'xkd1111001100', 'xkd1111001200', 'xls', 'xlsx', 'xpc1111000240_b', 'xpc1111000241_a', 'xs', 'xsc1111000926', 'xsc1111000941', 'xsc1111000943', 'xsc1111001179', 'xsc1111001182', 'xsc1111001285', 'xsc1111001488', 'xsc1111001529', 'xsc1111001671', 'xsc1111001793', 'xsc1111001856', 'xsc1111001860', 'xsc1111001937', 'xsc1111002009', 'xsc1111002019', 'xsc1111002053', 'xsc1111002247', 'xsc1111002379', 'xsc1111002381', 'xsc1111002544', 'xsc1111002675', 'xsc1111002730', 'xsc1111003164', 'xsc1111003857', 'xsc1111004654', 'xsc1111005764', 'xsc1111005866', 'xsc1111005870', 'xsc1111006348', 'xsc1111006414', 'xsc1111006505', 'xsc1111006530', 'xsc1111006675', 'xsc1111006829', 'xsc1111006875_', 'xsc1111006879_', 'xsc1111006889', 'xsc1111006997', 'xsc1111007228', 'xsc1111007544', 'xsc1111007723', 'xsc1111007790', 'xsc1111007792', 'xsc1111007912', 'xsc1111008167', 'xsc1111008583', 'xsc1111009182', 'xsc1111009592', 'xsc1111010207', 'xsc1111011210', 'xsc1111011462', 'xsc1111011466', 'xsc1111012059', 'xsc1111013172', 'xsc1111013682', 'xsc1111014493', 'xsc1111014499', 'xsc1111019454', 'xsc1111019463', 'xsc1111019524', 'xsc1111039083', 'xsc1111039246', 'xsc1111039270', 'xsc1111041051', 'xsc1111041308', 'xx', 'xx_tc_ocnreleaseprocess_issue_org_review', 'ybei', 'yellow', 'yerz', 'yes', 'yesterday', 'ymatetl', 'ymatsun', 'ymot', 'zamakona', 'zeya', 'zroh']\n"
          ],
          "name": "stdout"
        }
      ]
    },
    {
      "cell_type": "code",
      "metadata": {
        "colab": {
          "base_uri": "https://localhost:8080/"
        },
        "id": "8MizUk9ZrGGZ",
        "outputId": "4d6fa4b5-707a-4a92-e76f-2d49045ec3f6"
      },
      "source": [
        "print(features) # if-idf-weighted document-term matrix"
      ],
      "execution_count": null,
      "outputs": [
        {
          "output_type": "stream",
          "text": [
            "  (0, 1861)\t0.5948682672808763\n",
            "  (0, 2354)\t0.6255024268654853\n",
            "  (0, 785)\t0.3378971462521399\n",
            "  (0, 1606)\t0.3751052880489639\n",
            "  (1, 1151)\t0.5092272387425356\n",
            "  (1, 2737)\t0.5092272387425356\n",
            "  (1, 2612)\t0.5706785882385176\n",
            "  (1, 1606)\t0.39458989795913135\n",
            "  (2, 1903)\t0.5877367239860941\n",
            "  (2, 2423)\t0.5037114662597372\n",
            "  (2, 373)\t0.3932685117295202\n",
            "  (2, 1606)\t0.4961654761454162\n",
            "  (3, 2487)\t0.2530919412733506\n",
            "  (3, 2708)\t0.39259807164086086\n",
            "  (3, 2668)\t0.24986262284088548\n",
            "  (3, 1733)\t0.45571035486231626\n",
            "  (3, 2800)\t0.5296080139797659\n",
            "  (3, 2819)\t0.3459738397843808\n",
            "  (3, 1606)\t0.33395421736812864\n",
            "  (4, 2487)\t0.2530919412733506\n",
            "  (4, 2708)\t0.39259807164086086\n",
            "  (4, 2668)\t0.24986262284088548\n",
            "  (4, 1733)\t0.45571035486231626\n",
            "  (4, 2800)\t0.5296080139797659\n",
            "  (4, 2819)\t0.3459738397843808\n",
            "  :\t:\n",
            "  (2891, 1713)\t0.5428268239683037\n",
            "  (2891, 235)\t0.48244129036395456\n",
            "  (2891, 2668)\t0.30232965096576075\n",
            "  (2892, 1324)\t0.911744090183871\n",
            "  (2892, 1611)\t0.4107587053426688\n",
            "  (2893, 1325)\t0.911744090183871\n",
            "  (2893, 1611)\t0.4107587053426688\n",
            "  (2894, 1331)\t0.9191836401480534\n",
            "  (2894, 1611)\t0.3938291960789265\n",
            "  (2895, 2490)\t0.6400617790631268\n",
            "  (2895, 1611)\t0.2992961376163485\n",
            "  (2895, 2668)\t0.3134252920990693\n",
            "  (2895, 373)\t0.332033810563781\n",
            "  (2895, 2737)\t0.5406115758153808\n",
            "  (2896, 1691)\t0.5791466044103263\n",
            "  (2896, 742)\t0.4362422239040797\n",
            "  (2896, 2597)\t0.3863176336484608\n",
            "  (2896, 2250)\t0.43058438570841523\n",
            "  (2896, 2770)\t0.3736812885328517\n",
            "  (2897, 2163)\t0.46942494701261\n",
            "  (2897, 2499)\t0.43012290541472814\n",
            "  (2897, 2439)\t0.44643472647606613\n",
            "  (2897, 1966)\t0.38414246434164034\n",
            "  (2897, 1791)\t0.43012290541472814\n",
            "  (2897, 1913)\t0.25051825019979146\n"
          ],
          "name": "stdout"
        }
      ]
    },
    {
      "cell_type": "markdown",
      "metadata": {
        "id": "CiuZY7wpkTAq"
      },
      "source": [
        "K -Means applied"
      ]
    },
    {
      "cell_type": "code",
      "metadata": {
        "colab": {
          "base_uri": "https://localhost:8080/"
        },
        "id": "_kfukFxvkFHB",
        "outputId": "76a02ac7-cc3f-41e1-897f-73974c7c782c"
      },
      "source": [
        "k=20\n",
        "model = KMeans(n_clusters=k)\n",
        "model.fit(features)"
      ],
      "execution_count": null,
      "outputs": [
        {
          "output_type": "execute_result",
          "data": {
            "text/plain": [
              "KMeans(algorithm='auto', copy_x=True, init='k-means++', max_iter=300,\n",
              "       n_clusters=20, n_init=10, n_jobs=None, precompute_distances='auto',\n",
              "       random_state=None, tol=0.0001, verbose=0)"
            ]
          },
          "metadata": {
            "tags": []
          },
          "execution_count": 45
        }
      ]
    },
    {
      "cell_type": "code",
      "metadata": {
        "id": "u-YrefKGkQA_"
      },
      "source": [
        "df['cluster']=model.labels_"
      ],
      "execution_count": null,
      "outputs": []
    },
    {
      "cell_type": "code",
      "metadata": {
        "colab": {
          "base_uri": "https://localhost:8080/",
          "height": 204
        },
        "id": "PbDSfIwIkdIj",
        "outputId": "833ec47b-bcfa-4721-c38a-386309d55e47"
      },
      "source": [
        "df.head(5)"
      ],
      "execution_count": null,
      "outputs": [
        {
          "output_type": "execute_result",
          "data": {
            "text/html": [
              "<div>\n",
              "<style scoped>\n",
              "    .dataframe tbody tr th:only-of-type {\n",
              "        vertical-align: middle;\n",
              "    }\n",
              "\n",
              "    .dataframe tbody tr th {\n",
              "        vertical-align: top;\n",
              "    }\n",
              "\n",
              "    .dataframe thead th {\n",
              "        text-align: right;\n",
              "    }\n",
              "</style>\n",
              "<table border=\"1\" class=\"dataframe\">\n",
              "  <thead>\n",
              "    <tr style=\"text-align: right;\">\n",
              "      <th></th>\n",
              "      <th>Issue ID</th>\n",
              "      <th>Title</th>\n",
              "      <th>word_counts</th>\n",
              "      <th>char_counts</th>\n",
              "      <th>avg_word_len</th>\n",
              "      <th>stop_words_len</th>\n",
              "      <th>numeric_count</th>\n",
              "      <th>upper_words_count</th>\n",
              "      <th>cluster</th>\n",
              "    </tr>\n",
              "  </thead>\n",
              "  <tbody>\n",
              "    <tr>\n",
              "      <th>0</th>\n",
              "      <td>2142</td>\n",
              "      <td>er classification quality improvement</td>\n",
              "      <td>3</td>\n",
              "      <td>35</td>\n",
              "      <td>11.666667</td>\n",
              "      <td>0</td>\n",
              "      <td>0</td>\n",
              "      <td>0</td>\n",
              "      <td>8</td>\n",
              "    </tr>\n",
              "    <tr>\n",
              "      <th>1</th>\n",
              "      <td>2182</td>\n",
              "      <td>er step type dataset</td>\n",
              "      <td>3</td>\n",
              "      <td>18</td>\n",
              "      <td>6.000000</td>\n",
              "      <td>0</td>\n",
              "      <td>0</td>\n",
              "      <td>0</td>\n",
              "      <td>0</td>\n",
              "    </tr>\n",
              "    <tr>\n",
              "      <th>2</th>\n",
              "      <td>2229</td>\n",
              "      <td>er bom report issues</td>\n",
              "      <td>3</td>\n",
              "      <td>18</td>\n",
              "      <td>6.000000</td>\n",
              "      <td>0</td>\n",
              "      <td>0</td>\n",
              "      <td>0</td>\n",
              "      <td>0</td>\n",
              "    </tr>\n",
              "    <tr>\n",
              "      <th>3</th>\n",
              "      <td>2497</td>\n",
              "      <td>er vs vekt fra tc til sap</td>\n",
              "      <td>6</td>\n",
              "      <td>21</td>\n",
              "      <td>3.500000</td>\n",
              "      <td>0</td>\n",
              "      <td>0</td>\n",
              "      <td>0</td>\n",
              "      <td>12</td>\n",
              "    </tr>\n",
              "    <tr>\n",
              "      <th>4</th>\n",
              "      <td>2508</td>\n",
              "      <td>er vs vekt fra tc til sap</td>\n",
              "      <td>6</td>\n",
              "      <td>21</td>\n",
              "      <td>3.500000</td>\n",
              "      <td>0</td>\n",
              "      <td>0</td>\n",
              "      <td>0</td>\n",
              "      <td>12</td>\n",
              "    </tr>\n",
              "  </tbody>\n",
              "</table>\n",
              "</div>"
            ],
            "text/plain": [
              "   Issue ID                                  Title  ...  upper_words_count  cluster\n",
              "0      2142  er classification quality improvement  ...                  0        8\n",
              "1      2182                   er step type dataset  ...                  0        0\n",
              "2      2229                   er bom report issues  ...                  0        0\n",
              "3      2497              er vs vekt fra tc til sap  ...                  0       12\n",
              "4      2508              er vs vekt fra tc til sap  ...                  0       12\n",
              "\n",
              "[5 rows x 9 columns]"
            ]
          },
          "metadata": {
            "tags": []
          },
          "execution_count": 48
        }
      ]
    },
    {
      "cell_type": "code",
      "metadata": {
        "id": "xhARgYzAkevl"
      },
      "source": [
        "clusters = df.groupby('cluster')\n",
        "\n",
        "for cluster in clusters.groups:\n",
        "    f=open('cluster' +str(cluster)+ '.csv','w') #to create a csv file\n",
        "    data=clusters.get_group(cluster)[['Issue ID','Title']]\n",
        "    f.write(data.to_csv(index_label='id'))\n",
        "    f.close()"
      ],
      "execution_count": null,
      "outputs": []
    },
    {
      "cell_type": "markdown",
      "metadata": {
        "id": "8uLG2u4wvg17"
      },
      "source": [
        "ELBOW METHOD"
      ]
    },
    {
      "cell_type": "code",
      "metadata": {
        "colab": {
          "base_uri": "https://localhost:8080/",
          "height": 357
        },
        "id": "ygFG8jjekvLd",
        "outputId": "739da8e6-e081-4658-e833-aacbc75db196"
      },
      "source": [
        "k_rng=range(1,10)\n",
        "sse=[] #sum of square error\n",
        "for k in k_rng:\n",
        "    km=KMeans(n_clusters=k)\n",
        "    km.fit(df['Title']) # if we call this will get sum of squares error\n",
        "    sse.append(km.inertia_) #appending sum of squares error for integers"
      ],
      "execution_count": null,
      "outputs": [
        {
          "output_type": "error",
          "ename": "ValueError",
          "evalue": "ignored",
          "traceback": [
            "\u001b[0;31m---------------------------------------------------------------------------\u001b[0m",
            "\u001b[0;31mValueError\u001b[0m                                Traceback (most recent call last)",
            "\u001b[0;32m<ipython-input-57-28c6cea54926>\u001b[0m in \u001b[0;36m<module>\u001b[0;34m()\u001b[0m\n\u001b[1;32m      3\u001b[0m \u001b[0;32mfor\u001b[0m \u001b[0mk\u001b[0m \u001b[0;32min\u001b[0m \u001b[0mk_rng\u001b[0m\u001b[0;34m:\u001b[0m\u001b[0;34m\u001b[0m\u001b[0;34m\u001b[0m\u001b[0m\n\u001b[1;32m      4\u001b[0m     \u001b[0mkm\u001b[0m\u001b[0;34m=\u001b[0m\u001b[0mKMeans\u001b[0m\u001b[0;34m(\u001b[0m\u001b[0mn_clusters\u001b[0m\u001b[0;34m=\u001b[0m\u001b[0mk\u001b[0m\u001b[0;34m)\u001b[0m\u001b[0;34m\u001b[0m\u001b[0;34m\u001b[0m\u001b[0m\n\u001b[0;32m----> 5\u001b[0;31m     \u001b[0mkm\u001b[0m\u001b[0;34m.\u001b[0m\u001b[0mfit\u001b[0m\u001b[0;34m(\u001b[0m\u001b[0mdf\u001b[0m\u001b[0;34m[\u001b[0m\u001b[0;34m'Title'\u001b[0m\u001b[0;34m]\u001b[0m\u001b[0;34m)\u001b[0m \u001b[0;31m# if we call this will get sum of squares error\u001b[0m\u001b[0;34m\u001b[0m\u001b[0;34m\u001b[0m\u001b[0m\n\u001b[0m\u001b[1;32m      6\u001b[0m     \u001b[0msse\u001b[0m\u001b[0;34m.\u001b[0m\u001b[0mappend\u001b[0m\u001b[0;34m(\u001b[0m\u001b[0mkm\u001b[0m\u001b[0;34m.\u001b[0m\u001b[0minertia_\u001b[0m\u001b[0;34m)\u001b[0m \u001b[0;31m#appending sum of squares error\u001b[0m\u001b[0;34m\u001b[0m\u001b[0;34m\u001b[0m\u001b[0m\n",
            "\u001b[0;32m/usr/local/lib/python3.7/dist-packages/sklearn/cluster/_kmeans.py\u001b[0m in \u001b[0;36mfit\u001b[0;34m(self, X, y, sample_weight)\u001b[0m\n\u001b[1;32m    857\u001b[0m         \u001b[0morder\u001b[0m \u001b[0;34m=\u001b[0m \u001b[0;34m\"C\"\u001b[0m \u001b[0;32mif\u001b[0m \u001b[0mself\u001b[0m\u001b[0;34m.\u001b[0m\u001b[0mcopy_x\u001b[0m \u001b[0;32melse\u001b[0m \u001b[0;32mNone\u001b[0m\u001b[0;34m\u001b[0m\u001b[0;34m\u001b[0m\u001b[0m\n\u001b[1;32m    858\u001b[0m         X = check_array(X, accept_sparse='csr', dtype=[np.float64, np.float32],\n\u001b[0;32m--> 859\u001b[0;31m                         order=order, copy=self.copy_x)\n\u001b[0m\u001b[1;32m    860\u001b[0m         \u001b[0;31m# verify that the number of samples given is larger than k\u001b[0m\u001b[0;34m\u001b[0m\u001b[0;34m\u001b[0m\u001b[0;34m\u001b[0m\u001b[0m\n\u001b[1;32m    861\u001b[0m         \u001b[0;32mif\u001b[0m \u001b[0m_num_samples\u001b[0m\u001b[0;34m(\u001b[0m\u001b[0mX\u001b[0m\u001b[0;34m)\u001b[0m \u001b[0;34m<\u001b[0m \u001b[0mself\u001b[0m\u001b[0;34m.\u001b[0m\u001b[0mn_clusters\u001b[0m\u001b[0;34m:\u001b[0m\u001b[0;34m\u001b[0m\u001b[0;34m\u001b[0m\u001b[0m\n",
            "\u001b[0;32m/usr/local/lib/python3.7/dist-packages/sklearn/utils/validation.py\u001b[0m in \u001b[0;36mcheck_array\u001b[0;34m(array, accept_sparse, accept_large_sparse, dtype, order, copy, force_all_finite, ensure_2d, allow_nd, ensure_min_samples, ensure_min_features, warn_on_dtype, estimator)\u001b[0m\n\u001b[1;32m    529\u001b[0m                     \u001b[0marray\u001b[0m \u001b[0;34m=\u001b[0m \u001b[0marray\u001b[0m\u001b[0;34m.\u001b[0m\u001b[0mastype\u001b[0m\u001b[0;34m(\u001b[0m\u001b[0mdtype\u001b[0m\u001b[0;34m,\u001b[0m \u001b[0mcasting\u001b[0m\u001b[0;34m=\u001b[0m\u001b[0;34m\"unsafe\"\u001b[0m\u001b[0;34m,\u001b[0m \u001b[0mcopy\u001b[0m\u001b[0;34m=\u001b[0m\u001b[0;32mFalse\u001b[0m\u001b[0;34m)\u001b[0m\u001b[0;34m\u001b[0m\u001b[0;34m\u001b[0m\u001b[0m\n\u001b[1;32m    530\u001b[0m                 \u001b[0;32melse\u001b[0m\u001b[0;34m:\u001b[0m\u001b[0;34m\u001b[0m\u001b[0;34m\u001b[0m\u001b[0m\n\u001b[0;32m--> 531\u001b[0;31m                     \u001b[0marray\u001b[0m \u001b[0;34m=\u001b[0m \u001b[0mnp\u001b[0m\u001b[0;34m.\u001b[0m\u001b[0masarray\u001b[0m\u001b[0;34m(\u001b[0m\u001b[0marray\u001b[0m\u001b[0;34m,\u001b[0m \u001b[0morder\u001b[0m\u001b[0;34m=\u001b[0m\u001b[0morder\u001b[0m\u001b[0;34m,\u001b[0m \u001b[0mdtype\u001b[0m\u001b[0;34m=\u001b[0m\u001b[0mdtype\u001b[0m\u001b[0;34m)\u001b[0m\u001b[0;34m\u001b[0m\u001b[0;34m\u001b[0m\u001b[0m\n\u001b[0m\u001b[1;32m    532\u001b[0m             \u001b[0;32mexcept\u001b[0m \u001b[0mComplexWarning\u001b[0m\u001b[0;34m:\u001b[0m\u001b[0;34m\u001b[0m\u001b[0;34m\u001b[0m\u001b[0m\n\u001b[1;32m    533\u001b[0m                 raise ValueError(\"Complex data not supported\\n\"\n",
            "\u001b[0;32m/usr/local/lib/python3.7/dist-packages/numpy/core/_asarray.py\u001b[0m in \u001b[0;36masarray\u001b[0;34m(a, dtype, order)\u001b[0m\n\u001b[1;32m     81\u001b[0m \u001b[0;34m\u001b[0m\u001b[0m\n\u001b[1;32m     82\u001b[0m     \"\"\"\n\u001b[0;32m---> 83\u001b[0;31m     \u001b[0;32mreturn\u001b[0m \u001b[0marray\u001b[0m\u001b[0;34m(\u001b[0m\u001b[0ma\u001b[0m\u001b[0;34m,\u001b[0m \u001b[0mdtype\u001b[0m\u001b[0;34m,\u001b[0m \u001b[0mcopy\u001b[0m\u001b[0;34m=\u001b[0m\u001b[0;32mFalse\u001b[0m\u001b[0;34m,\u001b[0m \u001b[0morder\u001b[0m\u001b[0;34m=\u001b[0m\u001b[0morder\u001b[0m\u001b[0;34m)\u001b[0m\u001b[0;34m\u001b[0m\u001b[0;34m\u001b[0m\u001b[0m\n\u001b[0m\u001b[1;32m     84\u001b[0m \u001b[0;34m\u001b[0m\u001b[0m\n\u001b[1;32m     85\u001b[0m \u001b[0;34m\u001b[0m\u001b[0m\n",
            "\u001b[0;32m/usr/local/lib/python3.7/dist-packages/pandas/core/series.py\u001b[0m in \u001b[0;36m__array__\u001b[0;34m(self, dtype)\u001b[0m\n\u001b[1;32m    795\u001b[0m               dtype='datetime64[ns]')\n\u001b[1;32m    796\u001b[0m         \"\"\"\n\u001b[0;32m--> 797\u001b[0;31m         \u001b[0;32mreturn\u001b[0m \u001b[0mnp\u001b[0m\u001b[0;34m.\u001b[0m\u001b[0masarray\u001b[0m\u001b[0;34m(\u001b[0m\u001b[0mself\u001b[0m\u001b[0;34m.\u001b[0m\u001b[0marray\u001b[0m\u001b[0;34m,\u001b[0m \u001b[0mdtype\u001b[0m\u001b[0;34m)\u001b[0m\u001b[0;34m\u001b[0m\u001b[0;34m\u001b[0m\u001b[0m\n\u001b[0m\u001b[1;32m    798\u001b[0m \u001b[0;34m\u001b[0m\u001b[0m\n\u001b[1;32m    799\u001b[0m     \u001b[0;31m# ----------------------------------------------------------------------\u001b[0m\u001b[0;34m\u001b[0m\u001b[0;34m\u001b[0m\u001b[0;34m\u001b[0m\u001b[0m\n",
            "\u001b[0;32m/usr/local/lib/python3.7/dist-packages/numpy/core/_asarray.py\u001b[0m in \u001b[0;36masarray\u001b[0;34m(a, dtype, order)\u001b[0m\n\u001b[1;32m     81\u001b[0m \u001b[0;34m\u001b[0m\u001b[0m\n\u001b[1;32m     82\u001b[0m     \"\"\"\n\u001b[0;32m---> 83\u001b[0;31m     \u001b[0;32mreturn\u001b[0m \u001b[0marray\u001b[0m\u001b[0;34m(\u001b[0m\u001b[0ma\u001b[0m\u001b[0;34m,\u001b[0m \u001b[0mdtype\u001b[0m\u001b[0;34m,\u001b[0m \u001b[0mcopy\u001b[0m\u001b[0;34m=\u001b[0m\u001b[0;32mFalse\u001b[0m\u001b[0;34m,\u001b[0m \u001b[0morder\u001b[0m\u001b[0;34m=\u001b[0m\u001b[0morder\u001b[0m\u001b[0;34m)\u001b[0m\u001b[0;34m\u001b[0m\u001b[0;34m\u001b[0m\u001b[0m\n\u001b[0m\u001b[1;32m     84\u001b[0m \u001b[0;34m\u001b[0m\u001b[0m\n\u001b[1;32m     85\u001b[0m \u001b[0;34m\u001b[0m\u001b[0m\n",
            "\u001b[0;32m/usr/local/lib/python3.7/dist-packages/pandas/core/arrays/numpy_.py\u001b[0m in \u001b[0;36m__array__\u001b[0;34m(self, dtype)\u001b[0m\n\u001b[1;32m    209\u001b[0m \u001b[0;34m\u001b[0m\u001b[0m\n\u001b[1;32m    210\u001b[0m     \u001b[0;32mdef\u001b[0m \u001b[0m__array__\u001b[0m\u001b[0;34m(\u001b[0m\u001b[0mself\u001b[0m\u001b[0;34m,\u001b[0m \u001b[0mdtype\u001b[0m\u001b[0;34m=\u001b[0m\u001b[0;32mNone\u001b[0m\u001b[0;34m)\u001b[0m \u001b[0;34m->\u001b[0m \u001b[0mnp\u001b[0m\u001b[0;34m.\u001b[0m\u001b[0mndarray\u001b[0m\u001b[0;34m:\u001b[0m\u001b[0;34m\u001b[0m\u001b[0;34m\u001b[0m\u001b[0m\n\u001b[0;32m--> 211\u001b[0;31m         \u001b[0;32mreturn\u001b[0m \u001b[0mnp\u001b[0m\u001b[0;34m.\u001b[0m\u001b[0masarray\u001b[0m\u001b[0;34m(\u001b[0m\u001b[0mself\u001b[0m\u001b[0;34m.\u001b[0m\u001b[0m_ndarray\u001b[0m\u001b[0;34m,\u001b[0m \u001b[0mdtype\u001b[0m\u001b[0;34m=\u001b[0m\u001b[0mdtype\u001b[0m\u001b[0;34m)\u001b[0m\u001b[0;34m\u001b[0m\u001b[0;34m\u001b[0m\u001b[0m\n\u001b[0m\u001b[1;32m    212\u001b[0m \u001b[0;34m\u001b[0m\u001b[0m\n\u001b[1;32m    213\u001b[0m     \u001b[0m_HANDLED_TYPES\u001b[0m \u001b[0;34m=\u001b[0m \u001b[0;34m(\u001b[0m\u001b[0mnp\u001b[0m\u001b[0;34m.\u001b[0m\u001b[0mndarray\u001b[0m\u001b[0;34m,\u001b[0m \u001b[0mnumbers\u001b[0m\u001b[0;34m.\u001b[0m\u001b[0mNumber\u001b[0m\u001b[0;34m)\u001b[0m\u001b[0;34m\u001b[0m\u001b[0;34m\u001b[0m\u001b[0m\n",
            "\u001b[0;32m/usr/local/lib/python3.7/dist-packages/numpy/core/_asarray.py\u001b[0m in \u001b[0;36masarray\u001b[0;34m(a, dtype, order)\u001b[0m\n\u001b[1;32m     81\u001b[0m \u001b[0;34m\u001b[0m\u001b[0m\n\u001b[1;32m     82\u001b[0m     \"\"\"\n\u001b[0;32m---> 83\u001b[0;31m     \u001b[0;32mreturn\u001b[0m \u001b[0marray\u001b[0m\u001b[0;34m(\u001b[0m\u001b[0ma\u001b[0m\u001b[0;34m,\u001b[0m \u001b[0mdtype\u001b[0m\u001b[0;34m,\u001b[0m \u001b[0mcopy\u001b[0m\u001b[0;34m=\u001b[0m\u001b[0;32mFalse\u001b[0m\u001b[0;34m,\u001b[0m \u001b[0morder\u001b[0m\u001b[0;34m=\u001b[0m\u001b[0morder\u001b[0m\u001b[0;34m)\u001b[0m\u001b[0;34m\u001b[0m\u001b[0;34m\u001b[0m\u001b[0m\n\u001b[0m\u001b[1;32m     84\u001b[0m \u001b[0;34m\u001b[0m\u001b[0m\n\u001b[1;32m     85\u001b[0m \u001b[0;34m\u001b[0m\u001b[0m\n",
            "\u001b[0;31mValueError\u001b[0m: could not convert string to float: 'er classification quality improvement'"
          ]
        }
      ]
    },
    {
      "cell_type": "code",
      "metadata": {
        "id": "uU-LaPa7kzJ8",
        "colab": {
          "base_uri": "https://localhost:8080/",
          "height": 419
        },
        "outputId": "67825fc2-0760-45fb-af15-9b508064eabe"
      },
      "source": [
        "df"
      ],
      "execution_count": null,
      "outputs": [
        {
          "output_type": "execute_result",
          "data": {
            "text/html": [
              "<div>\n",
              "<style scoped>\n",
              "    .dataframe tbody tr th:only-of-type {\n",
              "        vertical-align: middle;\n",
              "    }\n",
              "\n",
              "    .dataframe tbody tr th {\n",
              "        vertical-align: top;\n",
              "    }\n",
              "\n",
              "    .dataframe thead th {\n",
              "        text-align: right;\n",
              "    }\n",
              "</style>\n",
              "<table border=\"1\" class=\"dataframe\">\n",
              "  <thead>\n",
              "    <tr style=\"text-align: right;\">\n",
              "      <th></th>\n",
              "      <th>Issue ID</th>\n",
              "      <th>Title</th>\n",
              "      <th>Description</th>\n",
              "      <th>Issue Status</th>\n",
              "      <th>Resolution</th>\n",
              "    </tr>\n",
              "  </thead>\n",
              "  <tbody>\n",
              "    <tr>\n",
              "      <th>0</th>\n",
              "      <td>2142</td>\n",
              "      <td>er classification quality improvement</td>\n",
              "      <td>Hi,\\nfind attached one example of possible cle...</td>\n",
              "      <td>Active</td>\n",
              "      <td>​Moved to DATA Streaming</td>\n",
              "    </tr>\n",
              "    <tr>\n",
              "      <th>1</th>\n",
              "      <td>2182</td>\n",
              "      <td>er step type dataset</td>\n",
              "      <td>Hi\\nIs it possible to add a „new“ dataset type...</td>\n",
              "      <td>Active</td>\n",
              "      <td>NaN</td>\n",
              "    </tr>\n",
              "    <tr>\n",
              "      <th>2</th>\n",
              "      <td>2229</td>\n",
              "      <td>er bom report issues</td>\n",
              "      <td>Hi Omar,\\nI just discussed this with hiresh. B...</td>\n",
              "      <td>Active</td>\n",
              "      <td>NaN</td>\n",
              "    </tr>\n",
              "    <tr>\n",
              "      <th>3</th>\n",
              "      <td>2497</td>\n",
              "      <td>er vs vekt fra tc til sap</td>\n",
              "      <td>Hi,\\nFind attached list of wheigths. How can w...</td>\n",
              "      <td>Active</td>\n",
              "      <td>NaN</td>\n",
              "    </tr>\n",
              "    <tr>\n",
              "      <th>4</th>\n",
              "      <td>2508</td>\n",
              "      <td>er vs vekt fra tc til sap</td>\n",
              "      <td>Data Stream</td>\n",
              "      <td>Active</td>\n",
              "      <td>NaN</td>\n",
              "    </tr>\n",
              "    <tr>\n",
              "      <th>...</th>\n",
              "      <td>...</td>\n",
              "      <td>...</td>\n",
              "      <td>...</td>\n",
              "      <td>...</td>\n",
              "      <td>...</td>\n",
              "    </tr>\n",
              "    <tr>\n",
              "      <th>2893</th>\n",
              "      <td>1326</td>\n",
              "      <td>dc0201996 error</td>\n",
              "      <td>Error during approval. Please check and comple...</td>\n",
              "      <td>Resolved</td>\n",
              "      <td>​1</td>\n",
              "    </tr>\n",
              "    <tr>\n",
              "      <th>2894</th>\n",
              "      <td>1334</td>\n",
              "      <td>dc0202059 error</td>\n",
              "      <td>One more similar error. Please check and compl...</td>\n",
              "      <td>Resolved</td>\n",
              "      <td>​1</td>\n",
              "    </tr>\n",
              "    <tr>\n",
              "      <th>2895</th>\n",
              "      <td>1344</td>\n",
              "      <td>type of error when saving bom in tc</td>\n",
              "      <td>When saving BOM in TC, I get this message:\\nDo...</td>\n",
              "      <td>Resolved</td>\n",
              "      <td>​1</td>\n",
              "    </tr>\n",
              "    <tr>\n",
              "      <th>2896</th>\n",
              "      <td>1346</td>\n",
              "      <td>urgent cad files of standard parts</td>\n",
              "      <td>Can you please create CAD parts off the follow...</td>\n",
              "      <td>Resolved</td>\n",
              "      <td>1</td>\n",
              "    </tr>\n",
              "    <tr>\n",
              "      <th>2897</th>\n",
              "      <td>1795</td>\n",
              "      <td>search on legacy items gives noe results</td>\n",
              "      <td>When searching for legacy item revisions I do ...</td>\n",
              "      <td>Resolved</td>\n",
              "      <td>NaN</td>\n",
              "    </tr>\n",
              "  </tbody>\n",
              "</table>\n",
              "<p>2898 rows × 5 columns</p>\n",
              "</div>"
            ],
            "text/plain": [
              "      Issue ID  ...                Resolution\n",
              "0         2142  ...  ​Moved to DATA Streaming\n",
              "1         2182  ...                       NaN\n",
              "2         2229  ...                       NaN\n",
              "3         2497  ...                       NaN\n",
              "4         2508  ...                       NaN\n",
              "...        ...  ...                       ...\n",
              "2893      1326  ...                        ​1\n",
              "2894      1334  ...                        ​1\n",
              "2895      1344  ...                        ​1\n",
              "2896      1346  ...                         1\n",
              "2897      1795  ...                       NaN\n",
              "\n",
              "[2898 rows x 5 columns]"
            ]
          },
          "metadata": {
            "tags": []
          },
          "execution_count": 11
        }
      ]
    },
    {
      "cell_type": "code",
      "metadata": {
        "id": "9nJQFIiwl3iq",
        "colab": {
          "base_uri": "https://localhost:8080/",
          "height": 526
        },
        "outputId": "db903ab9-db87-4da2-e2f7-0ac4cb9a6b4f"
      },
      "source": [
        "import seaborn as sns\n",
        "import matplotlib.pyplot as plt\n",
        "count=df['Title'].value_counts()\n",
        "plt.figure(figsize=(20,10))\n",
        "sns.barplot( count.index, count.values, alpha=0.8)\n",
        "plt.title('Titles')\n",
        "plt.ylabel('No.of times repetated', fontsize=12)\n",
        "plt.xlabel('questions',fontsize=12)\n",
        "plt.show()\n"
      ],
      "execution_count": null,
      "outputs": [
        {
          "output_type": "stream",
          "text": [
            "/usr/local/lib/python3.7/dist-packages/seaborn/_decorators.py:43: FutureWarning: Pass the following variables as keyword args: x, y. From version 0.12, the only valid positional argument will be `data`, and passing other arguments without an explicit keyword will result in an error or misinterpretation.\n",
            "  FutureWarning\n"
          ],
          "name": "stderr"
        },
        {
          "output_type": "display_data",
          "data": {
            "image/png": "[encoded data removed]",
            "text/plain": [
              "<Figure size 1440x720 with 1 Axes>"
            ]
          },
          "metadata": {
            "tags": [],
            "needs_background": "light"
          }
        }
      ]
    },
    {
      "cell_type": "code",
      "metadata": {
        "id": "MJpO7v7KHpj7",
        "colab": {
          "base_uri": "https://localhost:8080/",
          "height": 398
        },
        "outputId": "805217b9-119e-4491-f643-cce702695455"
      },
      "source": [
        "import seaborn as sns\n",
        "import matplotlib.pyplot as plt\n",
        "count=df['Title'].value_counts()\n",
        "count=count[:15]\n",
        "plt.figure(figsize=(20,10))\n",
        "sns.barplot( count.index, count.values, alpha=0.8)\n",
        "plt.title('Titles')\n",
        "plt.ylabel('No.of times repetated', fontsize=12)\n",
        "plt.xlabel('questions',fontsize=12)\n",
        "plt.savefig('1.png')\n",
        "plt.show()"
      ],
      "execution_count": null,
      "outputs": [
        {
          "output_type": "stream",
          "text": [
            "/usr/local/lib/python3.7/dist-packages/seaborn/_decorators.py:43: FutureWarning: Pass the following variables as keyword args: x, y. From version 0.12, the only valid positional argument will be `data`, and passing other arguments without an explicit keyword will result in an error or misinterpretation.\n",
            "  FutureWarning\n"
          ],
          "name": "stderr"
        },
        {
          "output_type": "display_data",
          "data": {
            "image/png": "[encoded data removed]",
            "text/plain": [
              "<Figure size 1440x720 with 1 Axes>"
            ]
          },
          "metadata": {
            "tags": [],
            "needs_background": "light"
          }
        }
      ]
    },
    {
      "cell_type": "code",
      "metadata": {
        "colab": {
          "base_uri": "https://localhost:8080/"
        },
        "id": "u5ZrKKpj3yx2",
        "outputId": "3f5ba934-c727-4cb6-c3fc-525d7b1ceb18"
      },
      "source": [
        "df['Title'].value_counts()"
      ],
      "execution_count": null,
      "outputs": [
        {
          "output_type": "execute_result",
          "data": {
            "text/plain": [
              "Release item                                                                                       27\n",
              "Release material                                                                                   20\n",
              "Rename to CXSS                                                                                     17\n",
              "High                                                                                               14\n",
              "Renaming                                                                                           14\n",
              "                                                                                                   ..\n",
              "ECM from Bacelona                                                                                   1\n",
              "cardinality error                                                                                   1\n",
              "DC0201370                                                                                           1\n",
              "Structure Manager - Teamcenter 8; Ikke mulig å endre Find nr. i anlegg spes i nivået under CXSS     1\n",
              "error                                                                                               1\n",
              "Name: Title, Length: 2565, dtype: int64"
            ]
          },
          "metadata": {
            "tags": []
          },
          "execution_count": 9
        }
      ]
    },
    {
      "cell_type": "code",
      "metadata": {
        "id": "K34AlA6S5cDN"
      },
      "source": [
        ""
      ],
      "execution_count": null,
      "outputs": []
    }
  ]
}